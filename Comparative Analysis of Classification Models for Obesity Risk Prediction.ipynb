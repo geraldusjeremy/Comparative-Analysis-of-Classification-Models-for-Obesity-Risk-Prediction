{
  "nbformat": 4,
  "nbformat_minor": 0,
  "metadata": {
    "colab": {
      "provenance": []
    },
    "kernelspec": {
      "name": "python3",
      "display_name": "Python 3"
    },
    "language_info": {
      "name": "python"
    }
  },
  "cells": [
    {
      "cell_type": "code",
      "execution_count": null,
      "metadata": {
        "id": "OqjNmWLYLxKx"
      },
      "outputs": [],
      "source": [
        "import pandas as pd\n",
        "import numpy as np\n",
        "import matplotlib.pyplot as plt\n",
        "from sklearn import preprocessing\n",
        "from sklearn.preprocessing import OrdinalEncoder\n",
        "from sklearn.preprocessing import OneHotEncoder\n",
        "import seaborn as sns"
      ]
    },
    {
      "cell_type": "code",
      "source": [
        "df = pd.read_csv(\"1B.tsv\", sep = '\\t')"
      ],
      "metadata": {
        "id": "bIgrfcmjNYjd"
      },
      "execution_count": null,
      "outputs": []
    },
    {
      "cell_type": "code",
      "source": [
        "df.head()"
      ],
      "metadata": {
        "colab": {
          "base_uri": "https://localhost:8080/",
          "height": 278
        },
        "id": "_eLiB8D4O_iG",
        "outputId": "d5458f78-49e0-4dcb-eae0-441f630bcb0f"
      },
      "execution_count": null,
      "outputs": [
        {
          "output_type": "execute_result",
          "data": {
            "text/plain": [
              "   Gender  Birth Date  Height Weight family_history_with_overweight  \\\n",
              "0  Female  2003/02/05    1.62   64.0                            yes   \n",
              "1  Female  2003/06/13    1.52   56.0                            yes   \n",
              "2    Male  2001/06/25    1.80   77.0                            yes   \n",
              "3    Male  1997/08/14    1.80   87.0                             no   \n",
              "4    Male  2002/05/14    1.78   89.8                             no   \n",
              "\n",
              "  High Calorie Meal Freq  Veggies in Meals freq  Daily Main Meals  \\\n",
              "0                     no                    2.0               3.0   \n",
              "1                     no                    3.0               3.0   \n",
              "2                     no                    2.0               3.0   \n",
              "3                     no                    3.0               3.0   \n",
              "4                     no                    2.0               1.0   \n",
              "\n",
              "  Snack Frequency Smoking  Daily Water Consumption  Weekly Physical Activity  \\\n",
              "0       Sometimes      no                      2.0                       0.0   \n",
              "1       Sometimes     yes                      3.0                       3.0   \n",
              "2       Sometimes      no                      2.0                       2.0   \n",
              "3       Sometimes      no                      2.0                       2.0   \n",
              "4       Sometimes      no                      2.0                       0.0   \n",
              "\n",
              "      Alcohol         Transportation        Obesity level  \n",
              "0          no  Public_Transportation        Normal_Weight  \n",
              "1   Sometimes  Public_Transportation        Normal_Weight  \n",
              "2  Frequently  Public_Transportation        Normal_Weight  \n",
              "3  Frequently                Walking   Overweight_Level_I  \n",
              "4   Sometimes  Public_Transportation  Overweight_Level_II  "
            ],
            "text/html": [
              "\n",
              "  <div id=\"df-dd4d74e4-d7ef-4684-bc58-a5f6a5eaabcf\" class=\"colab-df-container\">\n",
              "    <div>\n",
              "<style scoped>\n",
              "    .dataframe tbody tr th:only-of-type {\n",
              "        vertical-align: middle;\n",
              "    }\n",
              "\n",
              "    .dataframe tbody tr th {\n",
              "        vertical-align: top;\n",
              "    }\n",
              "\n",
              "    .dataframe thead th {\n",
              "        text-align: right;\n",
              "    }\n",
              "</style>\n",
              "<table border=\"1\" class=\"dataframe\">\n",
              "  <thead>\n",
              "    <tr style=\"text-align: right;\">\n",
              "      <th></th>\n",
              "      <th>Gender</th>\n",
              "      <th>Birth Date</th>\n",
              "      <th>Height</th>\n",
              "      <th>Weight</th>\n",
              "      <th>family_history_with_overweight</th>\n",
              "      <th>High Calorie Meal Freq</th>\n",
              "      <th>Veggies in Meals freq</th>\n",
              "      <th>Daily Main Meals</th>\n",
              "      <th>Snack Frequency</th>\n",
              "      <th>Smoking</th>\n",
              "      <th>Daily Water Consumption</th>\n",
              "      <th>Weekly Physical Activity</th>\n",
              "      <th>Alcohol</th>\n",
              "      <th>Transportation</th>\n",
              "      <th>Obesity level</th>\n",
              "    </tr>\n",
              "  </thead>\n",
              "  <tbody>\n",
              "    <tr>\n",
              "      <th>0</th>\n",
              "      <td>Female</td>\n",
              "      <td>2003/02/05</td>\n",
              "      <td>1.62</td>\n",
              "      <td>64.0</td>\n",
              "      <td>yes</td>\n",
              "      <td>no</td>\n",
              "      <td>2.0</td>\n",
              "      <td>3.0</td>\n",
              "      <td>Sometimes</td>\n",
              "      <td>no</td>\n",
              "      <td>2.0</td>\n",
              "      <td>0.0</td>\n",
              "      <td>no</td>\n",
              "      <td>Public_Transportation</td>\n",
              "      <td>Normal_Weight</td>\n",
              "    </tr>\n",
              "    <tr>\n",
              "      <th>1</th>\n",
              "      <td>Female</td>\n",
              "      <td>2003/06/13</td>\n",
              "      <td>1.52</td>\n",
              "      <td>56.0</td>\n",
              "      <td>yes</td>\n",
              "      <td>no</td>\n",
              "      <td>3.0</td>\n",
              "      <td>3.0</td>\n",
              "      <td>Sometimes</td>\n",
              "      <td>yes</td>\n",
              "      <td>3.0</td>\n",
              "      <td>3.0</td>\n",
              "      <td>Sometimes</td>\n",
              "      <td>Public_Transportation</td>\n",
              "      <td>Normal_Weight</td>\n",
              "    </tr>\n",
              "    <tr>\n",
              "      <th>2</th>\n",
              "      <td>Male</td>\n",
              "      <td>2001/06/25</td>\n",
              "      <td>1.80</td>\n",
              "      <td>77.0</td>\n",
              "      <td>yes</td>\n",
              "      <td>no</td>\n",
              "      <td>2.0</td>\n",
              "      <td>3.0</td>\n",
              "      <td>Sometimes</td>\n",
              "      <td>no</td>\n",
              "      <td>2.0</td>\n",
              "      <td>2.0</td>\n",
              "      <td>Frequently</td>\n",
              "      <td>Public_Transportation</td>\n",
              "      <td>Normal_Weight</td>\n",
              "    </tr>\n",
              "    <tr>\n",
              "      <th>3</th>\n",
              "      <td>Male</td>\n",
              "      <td>1997/08/14</td>\n",
              "      <td>1.80</td>\n",
              "      <td>87.0</td>\n",
              "      <td>no</td>\n",
              "      <td>no</td>\n",
              "      <td>3.0</td>\n",
              "      <td>3.0</td>\n",
              "      <td>Sometimes</td>\n",
              "      <td>no</td>\n",
              "      <td>2.0</td>\n",
              "      <td>2.0</td>\n",
              "      <td>Frequently</td>\n",
              "      <td>Walking</td>\n",
              "      <td>Overweight_Level_I</td>\n",
              "    </tr>\n",
              "    <tr>\n",
              "      <th>4</th>\n",
              "      <td>Male</td>\n",
              "      <td>2002/05/14</td>\n",
              "      <td>1.78</td>\n",
              "      <td>89.8</td>\n",
              "      <td>no</td>\n",
              "      <td>no</td>\n",
              "      <td>2.0</td>\n",
              "      <td>1.0</td>\n",
              "      <td>Sometimes</td>\n",
              "      <td>no</td>\n",
              "      <td>2.0</td>\n",
              "      <td>0.0</td>\n",
              "      <td>Sometimes</td>\n",
              "      <td>Public_Transportation</td>\n",
              "      <td>Overweight_Level_II</td>\n",
              "    </tr>\n",
              "  </tbody>\n",
              "</table>\n",
              "</div>\n",
              "    <div class=\"colab-df-buttons\">\n",
              "\n",
              "  <div class=\"colab-df-container\">\n",
              "    <button class=\"colab-df-convert\" onclick=\"convertToInteractive('df-dd4d74e4-d7ef-4684-bc58-a5f6a5eaabcf')\"\n",
              "            title=\"Convert this dataframe to an interactive table.\"\n",
              "            style=\"display:none;\">\n",
              "\n",
              "  <svg xmlns=\"http://www.w3.org/2000/svg\" height=\"24px\" viewBox=\"0 -960 960 960\">\n",
              "    <path d=\"M120-120v-720h720v720H120Zm60-500h600v-160H180v160Zm220 220h160v-160H400v160Zm0 220h160v-160H400v160ZM180-400h160v-160H180v160Zm440 0h160v-160H620v160ZM180-180h160v-160H180v160Zm440 0h160v-160H620v160Z\"/>\n",
              "  </svg>\n",
              "    </button>\n",
              "\n",
              "  <style>\n",
              "    .colab-df-container {\n",
              "      display:flex;\n",
              "      gap: 12px;\n",
              "    }\n",
              "\n",
              "    .colab-df-convert {\n",
              "      background-color: #E8F0FE;\n",
              "      border: none;\n",
              "      border-radius: 50%;\n",
              "      cursor: pointer;\n",
              "      display: none;\n",
              "      fill: #1967D2;\n",
              "      height: 32px;\n",
              "      padding: 0 0 0 0;\n",
              "      width: 32px;\n",
              "    }\n",
              "\n",
              "    .colab-df-convert:hover {\n",
              "      background-color: #E2EBFA;\n",
              "      box-shadow: 0px 1px 2px rgba(60, 64, 67, 0.3), 0px 1px 3px 1px rgba(60, 64, 67, 0.15);\n",
              "      fill: #174EA6;\n",
              "    }\n",
              "\n",
              "    .colab-df-buttons div {\n",
              "      margin-bottom: 4px;\n",
              "    }\n",
              "\n",
              "    [theme=dark] .colab-df-convert {\n",
              "      background-color: #3B4455;\n",
              "      fill: #D2E3FC;\n",
              "    }\n",
              "\n",
              "    [theme=dark] .colab-df-convert:hover {\n",
              "      background-color: #434B5C;\n",
              "      box-shadow: 0px 1px 3px 1px rgba(0, 0, 0, 0.15);\n",
              "      filter: drop-shadow(0px 1px 2px rgba(0, 0, 0, 0.3));\n",
              "      fill: #FFFFFF;\n",
              "    }\n",
              "  </style>\n",
              "\n",
              "    <script>\n",
              "      const buttonEl =\n",
              "        document.querySelector('#df-dd4d74e4-d7ef-4684-bc58-a5f6a5eaabcf button.colab-df-convert');\n",
              "      buttonEl.style.display =\n",
              "        google.colab.kernel.accessAllowed ? 'block' : 'none';\n",
              "\n",
              "      async function convertToInteractive(key) {\n",
              "        const element = document.querySelector('#df-dd4d74e4-d7ef-4684-bc58-a5f6a5eaabcf');\n",
              "        const dataTable =\n",
              "          await google.colab.kernel.invokeFunction('convertToInteractive',\n",
              "                                                    [key], {});\n",
              "        if (!dataTable) return;\n",
              "\n",
              "        const docLinkHtml = 'Like what you see? Visit the ' +\n",
              "          '<a target=\"_blank\" href=https://colab.research.google.com/notebooks/data_table.ipynb>data table notebook</a>'\n",
              "          + ' to learn more about interactive tables.';\n",
              "        element.innerHTML = '';\n",
              "        dataTable['output_type'] = 'display_data';\n",
              "        await google.colab.output.renderOutput(dataTable, element);\n",
              "        const docLink = document.createElement('div');\n",
              "        docLink.innerHTML = docLinkHtml;\n",
              "        element.appendChild(docLink);\n",
              "      }\n",
              "    </script>\n",
              "  </div>\n",
              "\n",
              "\n",
              "<div id=\"df-219e326b-f095-448d-92d3-10e6c207aca3\">\n",
              "  <button class=\"colab-df-quickchart\" onclick=\"quickchart('df-219e326b-f095-448d-92d3-10e6c207aca3')\"\n",
              "            title=\"Suggest charts\"\n",
              "            style=\"display:none;\">\n",
              "\n",
              "<svg xmlns=\"http://www.w3.org/2000/svg\" height=\"24px\"viewBox=\"0 0 24 24\"\n",
              "     width=\"24px\">\n",
              "    <g>\n",
              "        <path d=\"M19 3H5c-1.1 0-2 .9-2 2v14c0 1.1.9 2 2 2h14c1.1 0 2-.9 2-2V5c0-1.1-.9-2-2-2zM9 17H7v-7h2v7zm4 0h-2V7h2v10zm4 0h-2v-4h2v4z\"/>\n",
              "    </g>\n",
              "</svg>\n",
              "  </button>\n",
              "\n",
              "<style>\n",
              "  .colab-df-quickchart {\n",
              "      --bg-color: #E8F0FE;\n",
              "      --fill-color: #1967D2;\n",
              "      --hover-bg-color: #E2EBFA;\n",
              "      --hover-fill-color: #174EA6;\n",
              "      --disabled-fill-color: #AAA;\n",
              "      --disabled-bg-color: #DDD;\n",
              "  }\n",
              "\n",
              "  [theme=dark] .colab-df-quickchart {\n",
              "      --bg-color: #3B4455;\n",
              "      --fill-color: #D2E3FC;\n",
              "      --hover-bg-color: #434B5C;\n",
              "      --hover-fill-color: #FFFFFF;\n",
              "      --disabled-bg-color: #3B4455;\n",
              "      --disabled-fill-color: #666;\n",
              "  }\n",
              "\n",
              "  .colab-df-quickchart {\n",
              "    background-color: var(--bg-color);\n",
              "    border: none;\n",
              "    border-radius: 50%;\n",
              "    cursor: pointer;\n",
              "    display: none;\n",
              "    fill: var(--fill-color);\n",
              "    height: 32px;\n",
              "    padding: 0;\n",
              "    width: 32px;\n",
              "  }\n",
              "\n",
              "  .colab-df-quickchart:hover {\n",
              "    background-color: var(--hover-bg-color);\n",
              "    box-shadow: 0 1px 2px rgba(60, 64, 67, 0.3), 0 1px 3px 1px rgba(60, 64, 67, 0.15);\n",
              "    fill: var(--button-hover-fill-color);\n",
              "  }\n",
              "\n",
              "  .colab-df-quickchart-complete:disabled,\n",
              "  .colab-df-quickchart-complete:disabled:hover {\n",
              "    background-color: var(--disabled-bg-color);\n",
              "    fill: var(--disabled-fill-color);\n",
              "    box-shadow: none;\n",
              "  }\n",
              "\n",
              "  .colab-df-spinner {\n",
              "    border: 2px solid var(--fill-color);\n",
              "    border-color: transparent;\n",
              "    border-bottom-color: var(--fill-color);\n",
              "    animation:\n",
              "      spin 1s steps(1) infinite;\n",
              "  }\n",
              "\n",
              "  @keyframes spin {\n",
              "    0% {\n",
              "      border-color: transparent;\n",
              "      border-bottom-color: var(--fill-color);\n",
              "      border-left-color: var(--fill-color);\n",
              "    }\n",
              "    20% {\n",
              "      border-color: transparent;\n",
              "      border-left-color: var(--fill-color);\n",
              "      border-top-color: var(--fill-color);\n",
              "    }\n",
              "    30% {\n",
              "      border-color: transparent;\n",
              "      border-left-color: var(--fill-color);\n",
              "      border-top-color: var(--fill-color);\n",
              "      border-right-color: var(--fill-color);\n",
              "    }\n",
              "    40% {\n",
              "      border-color: transparent;\n",
              "      border-right-color: var(--fill-color);\n",
              "      border-top-color: var(--fill-color);\n",
              "    }\n",
              "    60% {\n",
              "      border-color: transparent;\n",
              "      border-right-color: var(--fill-color);\n",
              "    }\n",
              "    80% {\n",
              "      border-color: transparent;\n",
              "      border-right-color: var(--fill-color);\n",
              "      border-bottom-color: var(--fill-color);\n",
              "    }\n",
              "    90% {\n",
              "      border-color: transparent;\n",
              "      border-bottom-color: var(--fill-color);\n",
              "    }\n",
              "  }\n",
              "</style>\n",
              "\n",
              "  <script>\n",
              "    async function quickchart(key) {\n",
              "      const quickchartButtonEl =\n",
              "        document.querySelector('#' + key + ' button');\n",
              "      quickchartButtonEl.disabled = true;  // To prevent multiple clicks.\n",
              "      quickchartButtonEl.classList.add('colab-df-spinner');\n",
              "      try {\n",
              "        const charts = await google.colab.kernel.invokeFunction(\n",
              "            'suggestCharts', [key], {});\n",
              "      } catch (error) {\n",
              "        console.error('Error during call to suggestCharts:', error);\n",
              "      }\n",
              "      quickchartButtonEl.classList.remove('colab-df-spinner');\n",
              "      quickchartButtonEl.classList.add('colab-df-quickchart-complete');\n",
              "    }\n",
              "    (() => {\n",
              "      let quickchartButtonEl =\n",
              "        document.querySelector('#df-219e326b-f095-448d-92d3-10e6c207aca3 button');\n",
              "      quickchartButtonEl.style.display =\n",
              "        google.colab.kernel.accessAllowed ? 'block' : 'none';\n",
              "    })();\n",
              "  </script>\n",
              "</div>\n",
              "\n",
              "    </div>\n",
              "  </div>\n"
            ],
            "application/vnd.google.colaboratory.intrinsic+json": {
              "type": "dataframe",
              "variable_name": "df",
              "summary": "{\n  \"name\": \"df\",\n  \"rows\": 2111,\n  \"fields\": [\n    {\n      \"column\": \"Gender\",\n      \"properties\": {\n        \"dtype\": \"category\",\n        \"num_unique_values\": 2,\n        \"samples\": [\n          \"Male\",\n          \"Female\"\n        ],\n        \"semantic_type\": \"\",\n        \"description\": \"\"\n      }\n    },\n    {\n      \"column\": \"Birth Date\",\n      \"properties\": {\n        \"dtype\": \"object\",\n        \"num_unique_values\": 1730,\n        \"samples\": [\n          \"2000/09/16\",\n          \"2002/12/13\"\n        ],\n        \"semantic_type\": \"\",\n        \"description\": \"\"\n      }\n    },\n    {\n      \"column\": \"Height\",\n      \"properties\": {\n        \"dtype\": \"number\",\n        \"std\": 0.09330481986792,\n        \"min\": 1.45,\n        \"max\": 1.98,\n        \"num_unique_values\": 1574,\n        \"samples\": [\n          1.760175,\n          1.688436\n        ],\n        \"semantic_type\": \"\",\n        \"description\": \"\"\n      }\n    },\n    {\n      \"column\": \"Weight\",\n      \"properties\": {\n        \"dtype\": \"string\",\n        \"num_unique_values\": 1525,\n        \"samples\": [\n          \"120.702935\",\n          \"64.4\"\n        ],\n        \"semantic_type\": \"\",\n        \"description\": \"\"\n      }\n    },\n    {\n      \"column\": \"family_history_with_overweight\",\n      \"properties\": {\n        \"dtype\": \"category\",\n        \"num_unique_values\": 2,\n        \"samples\": [\n          \"no\",\n          \"yes\"\n        ],\n        \"semantic_type\": \"\",\n        \"description\": \"\"\n      }\n    },\n    {\n      \"column\": \"High Calorie Meal Freq\",\n      \"properties\": {\n        \"dtype\": \"category\",\n        \"num_unique_values\": 2,\n        \"samples\": [\n          \"yes\",\n          \"no\"\n        ],\n        \"semantic_type\": \"\",\n        \"description\": \"\"\n      }\n    },\n    {\n      \"column\": \"Veggies in Meals freq\",\n      \"properties\": {\n        \"dtype\": \"number\",\n        \"std\": 0.5339265785033023,\n        \"min\": 1.0,\n        \"max\": 3.0,\n        \"num_unique_values\": 810,\n        \"samples\": [\n          2.987148,\n          2.939727\n        ],\n        \"semantic_type\": \"\",\n        \"description\": \"\"\n      }\n    },\n    {\n      \"column\": \"Daily Main Meals\",\n      \"properties\": {\n        \"dtype\": \"number\",\n        \"std\": 0.7780386488418594,\n        \"min\": 1.0,\n        \"max\": 4.0,\n        \"num_unique_values\": 635,\n        \"samples\": [\n          1.468948,\n          2.9948\n        ],\n        \"semantic_type\": \"\",\n        \"description\": \"\"\n      }\n    },\n    {\n      \"column\": \"Snack Frequency\",\n      \"properties\": {\n        \"dtype\": \"category\",\n        \"num_unique_values\": 4,\n        \"samples\": [\n          \"Frequently\",\n          \"no\"\n        ],\n        \"semantic_type\": \"\",\n        \"description\": \"\"\n      }\n    },\n    {\n      \"column\": \"Smoking\",\n      \"properties\": {\n        \"dtype\": \"category\",\n        \"num_unique_values\": 3,\n        \"samples\": [\n          \"no\",\n          \"yes\"\n        ],\n        \"semantic_type\": \"\",\n        \"description\": \"\"\n      }\n    },\n    {\n      \"column\": \"Daily Water Consumption\",\n      \"properties\": {\n        \"dtype\": \"number\",\n        \"std\": 0.6129534517968702,\n        \"min\": 1.0,\n        \"max\": 3.0,\n        \"num_unique_values\": 1268,\n        \"samples\": [\n          2.395387,\n          1.983973\n        ],\n        \"semantic_type\": \"\",\n        \"description\": \"\"\n      }\n    },\n    {\n      \"column\": \"Weekly Physical Activity\",\n      \"properties\": {\n        \"dtype\": \"number\",\n        \"std\": 0.8505924308367011,\n        \"min\": 0.0,\n        \"max\": 3.0,\n        \"num_unique_values\": 1190,\n        \"samples\": [\n          1.655488,\n          2.433918\n        ],\n        \"semantic_type\": \"\",\n        \"description\": \"\"\n      }\n    },\n    {\n      \"column\": \"Alcohol\",\n      \"properties\": {\n        \"dtype\": \"category\",\n        \"num_unique_values\": 4,\n        \"samples\": [\n          \"Sometimes\",\n          \"Always\"\n        ],\n        \"semantic_type\": \"\",\n        \"description\": \"\"\n      }\n    },\n    {\n      \"column\": \"Transportation\",\n      \"properties\": {\n        \"dtype\": \"category\",\n        \"num_unique_values\": 5,\n        \"samples\": [\n          \"Walking\",\n          \"Bike\"\n        ],\n        \"semantic_type\": \"\",\n        \"description\": \"\"\n      }\n    },\n    {\n      \"column\": \"Obesity level\",\n      \"properties\": {\n        \"dtype\": \"category\",\n        \"num_unique_values\": 7,\n        \"samples\": [\n          \"Normal_Weight\",\n          \"Overweight_Level_I\"\n        ],\n        \"semantic_type\": \"\",\n        \"description\": \"\"\n      }\n    }\n  ]\n}"
            }
          },
          "metadata": {},
          "execution_count": 3
        }
      ]
    },
    {
      "cell_type": "code",
      "source": [
        "df.shape"
      ],
      "metadata": {
        "colab": {
          "base_uri": "https://localhost:8080/"
        },
        "id": "imlENGUrQDii",
        "outputId": "f3963496-77e3-45f3-ddc4-c35f362037cb"
      },
      "execution_count": null,
      "outputs": [
        {
          "output_type": "execute_result",
          "data": {
            "text/plain": [
              "(2111, 15)"
            ]
          },
          "metadata": {},
          "execution_count": 4
        }
      ]
    },
    {
      "cell_type": "code",
      "source": [
        "df.columns"
      ],
      "metadata": {
        "colab": {
          "base_uri": "https://localhost:8080/"
        },
        "id": "50jLZn-0QVuc",
        "outputId": "21c401e9-a1d8-401b-9d94-41c4cccd65d4"
      },
      "execution_count": null,
      "outputs": [
        {
          "output_type": "execute_result",
          "data": {
            "text/plain": [
              "Index(['Gender', 'Birth Date', 'Height', 'Weight',\n",
              "       'family_history_with_overweight', 'High Calorie Meal Freq',\n",
              "       'Veggies in Meals freq', 'Daily Main Meals', 'Snack Frequency',\n",
              "       'Smoking', 'Daily Water Consumption', 'Weekly Physical Activity',\n",
              "       'Alcohol', 'Transportation', 'Obesity level'],\n",
              "      dtype='object')"
            ]
          },
          "metadata": {},
          "execution_count": 5
        }
      ]
    },
    {
      "cell_type": "code",
      "source": [
        "df.info()"
      ],
      "metadata": {
        "colab": {
          "base_uri": "https://localhost:8080/"
        },
        "id": "7qqeN_4yQki4",
        "outputId": "68720c87-0deb-40eb-e099-7621f5c0edf4"
      },
      "execution_count": null,
      "outputs": [
        {
          "output_type": "stream",
          "name": "stdout",
          "text": [
            "<class 'pandas.core.frame.DataFrame'>\n",
            "RangeIndex: 2111 entries, 0 to 2110\n",
            "Data columns (total 15 columns):\n",
            " #   Column                          Non-Null Count  Dtype  \n",
            "---  ------                          --------------  -----  \n",
            " 0   Gender                          2111 non-null   object \n",
            " 1   Birth Date                      2111 non-null   object \n",
            " 2   Height                          2111 non-null   float64\n",
            " 3   Weight                          2111 non-null   object \n",
            " 4   family_history_with_overweight  2111 non-null   object \n",
            " 5   High Calorie Meal Freq          2111 non-null   object \n",
            " 6   Veggies in Meals freq           2111 non-null   float64\n",
            " 7   Daily Main Meals                2111 non-null   float64\n",
            " 8   Snack Frequency                 2101 non-null   object \n",
            " 9   Smoking                         2111 non-null   object \n",
            " 10  Daily Water Consumption         2111 non-null   float64\n",
            " 11  Weekly Physical Activity        2111 non-null   float64\n",
            " 12  Alcohol                         2111 non-null   object \n",
            " 13  Transportation                  2111 non-null   object \n",
            " 14  Obesity level                   2111 non-null   object \n",
            "dtypes: float64(5), object(10)\n",
            "memory usage: 247.5+ KB\n"
          ]
        }
      ]
    },
    {
      "cell_type": "code",
      "source": [
        "df['Obesity level'].value_counts()"
      ],
      "metadata": {
        "colab": {
          "base_uri": "https://localhost:8080/",
          "height": 335
        },
        "id": "eegzdevfQlNY",
        "outputId": "ad044bff-00f7-42c7-9ddc-336a1442f78e"
      },
      "execution_count": null,
      "outputs": [
        {
          "output_type": "execute_result",
          "data": {
            "text/plain": [
              "Obesity level\n",
              "Obesity_Type_I         351\n",
              "Obesity_Type_III       324\n",
              "Obesity_Type_II        297\n",
              "Overweight_Level_I     290\n",
              "Overweight_Level_II    290\n",
              "Normal_Weight          287\n",
              "Insufficient_Weight    272\n",
              "Name: count, dtype: int64"
            ],
            "text/html": [
              "<div>\n",
              "<style scoped>\n",
              "    .dataframe tbody tr th:only-of-type {\n",
              "        vertical-align: middle;\n",
              "    }\n",
              "\n",
              "    .dataframe tbody tr th {\n",
              "        vertical-align: top;\n",
              "    }\n",
              "\n",
              "    .dataframe thead th {\n",
              "        text-align: right;\n",
              "    }\n",
              "</style>\n",
              "<table border=\"1\" class=\"dataframe\">\n",
              "  <thead>\n",
              "    <tr style=\"text-align: right;\">\n",
              "      <th></th>\n",
              "      <th>count</th>\n",
              "    </tr>\n",
              "    <tr>\n",
              "      <th>Obesity level</th>\n",
              "      <th></th>\n",
              "    </tr>\n",
              "  </thead>\n",
              "  <tbody>\n",
              "    <tr>\n",
              "      <th>Obesity_Type_I</th>\n",
              "      <td>351</td>\n",
              "    </tr>\n",
              "    <tr>\n",
              "      <th>Obesity_Type_III</th>\n",
              "      <td>324</td>\n",
              "    </tr>\n",
              "    <tr>\n",
              "      <th>Obesity_Type_II</th>\n",
              "      <td>297</td>\n",
              "    </tr>\n",
              "    <tr>\n",
              "      <th>Overweight_Level_I</th>\n",
              "      <td>290</td>\n",
              "    </tr>\n",
              "    <tr>\n",
              "      <th>Overweight_Level_II</th>\n",
              "      <td>290</td>\n",
              "    </tr>\n",
              "    <tr>\n",
              "      <th>Normal_Weight</th>\n",
              "      <td>287</td>\n",
              "    </tr>\n",
              "    <tr>\n",
              "      <th>Insufficient_Weight</th>\n",
              "      <td>272</td>\n",
              "    </tr>\n",
              "  </tbody>\n",
              "</table>\n",
              "</div><br><label><b>dtype:</b> int64</label>"
            ]
          },
          "metadata": {},
          "execution_count": 7
        }
      ]
    },
    {
      "cell_type": "code",
      "source": [
        "a = ['Insufficient_Weight', 'Normal_Weight', 'Overweight_Level_I', 'Overweight_Level_II','Obesity_Type_I','Obesity_Type_II','Obesity_Type_III']\n",
        "\n",
        "df['Obesity level'] = df['Obesity level'].astype(str)\n",
        "\n",
        "\n",
        "encode1 = OrdinalEncoder(categories=[a], handle_unknown='use_encoded_value', unknown_value=-1)\n",
        "\n",
        "df['Obesity level'] = encode1.fit_transform(df[['Obesity level']])"
      ],
      "metadata": {
        "id": "esxGN40_ayX2"
      },
      "execution_count": null,
      "outputs": []
    },
    {
      "cell_type": "code",
      "source": [
        "input_df=df.drop('Obesity level',axis=1)\n",
        "output_df=df['Obesity level']"
      ],
      "metadata": {
        "id": "yx697eSWfVvv"
      },
      "execution_count": null,
      "outputs": []
    },
    {
      "cell_type": "code",
      "source": [
        "from sklearn.model_selection import train_test_split\n",
        "x_train, x_test, y_train, y_test = train_test_split(input_df, output_df, test_size = 0.2, random_state = 42)"
      ],
      "metadata": {
        "id": "_Jqk2kH4RmEA"
      },
      "execution_count": null,
      "outputs": []
    },
    {
      "cell_type": "code",
      "source": [
        "df['Snack Frequency'].value_counts()"
      ],
      "metadata": {
        "colab": {
          "base_uri": "https://localhost:8080/",
          "height": 241
        },
        "id": "XADrEnBhVjAB",
        "outputId": "85db7260-7ab6-466f-c9fa-d9dc33f94756"
      },
      "execution_count": null,
      "outputs": [
        {
          "output_type": "execute_result",
          "data": {
            "text/plain": [
              "Snack Frequency\n",
              "Sometimes     1758\n",
              "Frequently     241\n",
              "Always          52\n",
              "no              50\n",
              "Name: count, dtype: int64"
            ],
            "text/html": [
              "<div>\n",
              "<style scoped>\n",
              "    .dataframe tbody tr th:only-of-type {\n",
              "        vertical-align: middle;\n",
              "    }\n",
              "\n",
              "    .dataframe tbody tr th {\n",
              "        vertical-align: top;\n",
              "    }\n",
              "\n",
              "    .dataframe thead th {\n",
              "        text-align: right;\n",
              "    }\n",
              "</style>\n",
              "<table border=\"1\" class=\"dataframe\">\n",
              "  <thead>\n",
              "    <tr style=\"text-align: right;\">\n",
              "      <th></th>\n",
              "      <th>count</th>\n",
              "    </tr>\n",
              "    <tr>\n",
              "      <th>Snack Frequency</th>\n",
              "      <th></th>\n",
              "    </tr>\n",
              "  </thead>\n",
              "  <tbody>\n",
              "    <tr>\n",
              "      <th>Sometimes</th>\n",
              "      <td>1758</td>\n",
              "    </tr>\n",
              "    <tr>\n",
              "      <th>Frequently</th>\n",
              "      <td>241</td>\n",
              "    </tr>\n",
              "    <tr>\n",
              "      <th>Always</th>\n",
              "      <td>52</td>\n",
              "    </tr>\n",
              "    <tr>\n",
              "      <th>no</th>\n",
              "      <td>50</td>\n",
              "    </tr>\n",
              "  </tbody>\n",
              "</table>\n",
              "</div><br><label><b>dtype:</b> int64</label>"
            ]
          },
          "metadata": {},
          "execution_count": 11
        }
      ]
    },
    {
      "cell_type": "code",
      "source": [
        "import statistics as st"
      ],
      "metadata": {
        "id": "02MPsJOyWMiU"
      },
      "execution_count": null,
      "outputs": []
    },
    {
      "cell_type": "code",
      "source": [
        "st.mode(df['Snack Frequency'])"
      ],
      "metadata": {
        "colab": {
          "base_uri": "https://localhost:8080/",
          "height": 36
        },
        "id": "6MACosToWM7G",
        "outputId": "e09cac96-cddf-46c9-9864-81e36e6fd841"
      },
      "execution_count": null,
      "outputs": [
        {
          "output_type": "execute_result",
          "data": {
            "text/plain": [
              "'Sometimes'"
            ],
            "application/vnd.google.colaboratory.intrinsic+json": {
              "type": "string"
            }
          },
          "metadata": {},
          "execution_count": 13
        }
      ]
    },
    {
      "cell_type": "code",
      "source": [
        "x_test['Snack Frequency'].fillna('Sometimes', inplace=True)\n",
        "x_train['Snack Frequency'].fillna('Sometimes', inplace=True)\n",
        "\n"
      ],
      "metadata": {
        "id": "kLxD2dPjWV0e",
        "colab": {
          "base_uri": "https://localhost:8080/"
        },
        "outputId": "05511c49-ef8b-42b6-bc7e-dcddd033a23a"
      },
      "execution_count": null,
      "outputs": [
        {
          "output_type": "stream",
          "name": "stderr",
          "text": [
            "<ipython-input-14-798fba3e146f>:1: FutureWarning: A value is trying to be set on a copy of a DataFrame or Series through chained assignment using an inplace method.\n",
            "The behavior will change in pandas 3.0. This inplace method will never work because the intermediate object on which we are setting values always behaves as a copy.\n",
            "\n",
            "For example, when doing 'df[col].method(value, inplace=True)', try using 'df.method({col: value}, inplace=True)' or df[col] = df[col].method(value) instead, to perform the operation inplace on the original object.\n",
            "\n",
            "\n",
            "  x_test['Snack Frequency'].fillna('Sometimes', inplace=True)\n",
            "<ipython-input-14-798fba3e146f>:2: FutureWarning: A value is trying to be set on a copy of a DataFrame or Series through chained assignment using an inplace method.\n",
            "The behavior will change in pandas 3.0. This inplace method will never work because the intermediate object on which we are setting values always behaves as a copy.\n",
            "\n",
            "For example, when doing 'df[col].method(value, inplace=True)', try using 'df.method({col: value}, inplace=True)' or df[col] = df[col].method(value) instead, to perform the operation inplace on the original object.\n",
            "\n",
            "\n",
            "  x_train['Snack Frequency'].fillna('Sometimes', inplace=True)\n"
          ]
        }
      ]
    },
    {
      "cell_type": "code",
      "source": [
        "df['Gender'].value_counts()"
      ],
      "metadata": {
        "colab": {
          "base_uri": "https://localhost:8080/",
          "height": 178
        },
        "id": "SjvRn3xMPaaX",
        "outputId": "3ec7cb6a-da0b-428e-ec41-41ee1c9245a2"
      },
      "execution_count": null,
      "outputs": [
        {
          "output_type": "execute_result",
          "data": {
            "text/plain": [
              "Gender\n",
              "Male      1068\n",
              "Female    1043\n",
              "Name: count, dtype: int64"
            ],
            "text/html": [
              "<div>\n",
              "<style scoped>\n",
              "    .dataframe tbody tr th:only-of-type {\n",
              "        vertical-align: middle;\n",
              "    }\n",
              "\n",
              "    .dataframe tbody tr th {\n",
              "        vertical-align: top;\n",
              "    }\n",
              "\n",
              "    .dataframe thead th {\n",
              "        text-align: right;\n",
              "    }\n",
              "</style>\n",
              "<table border=\"1\" class=\"dataframe\">\n",
              "  <thead>\n",
              "    <tr style=\"text-align: right;\">\n",
              "      <th></th>\n",
              "      <th>count</th>\n",
              "    </tr>\n",
              "    <tr>\n",
              "      <th>Gender</th>\n",
              "      <th></th>\n",
              "    </tr>\n",
              "  </thead>\n",
              "  <tbody>\n",
              "    <tr>\n",
              "      <th>Male</th>\n",
              "      <td>1068</td>\n",
              "    </tr>\n",
              "    <tr>\n",
              "      <th>Female</th>\n",
              "      <td>1043</td>\n",
              "    </tr>\n",
              "  </tbody>\n",
              "</table>\n",
              "</div><br><label><b>dtype:</b> int64</label>"
            ]
          },
          "metadata": {},
          "execution_count": 15
        }
      ]
    },
    {
      "cell_type": "code",
      "source": [
        "df['Birth Date'].value_counts()"
      ],
      "metadata": {
        "colab": {
          "base_uri": "https://localhost:8080/",
          "height": 489
        },
        "id": "h4_utgTMdb_T",
        "outputId": "f264556b-ed14-4df5-98da-ace7c8a2f351"
      },
      "execution_count": null,
      "outputs": [
        {
          "output_type": "execute_result",
          "data": {
            "text/plain": [
              "Birth Date\n",
              "2003/03/06    4\n",
              "2004/08/29    4\n",
              "2001/02/09    4\n",
              "2006/08/02    4\n",
              "1998/04/29    4\n",
              "             ..\n",
              "1994/08/07    1\n",
              "2003/07/14    1\n",
              "2005/04/30    1\n",
              "2004/05/04    1\n",
              "1999/06/01    1\n",
              "Name: count, Length: 1730, dtype: int64"
            ],
            "text/html": [
              "<div>\n",
              "<style scoped>\n",
              "    .dataframe tbody tr th:only-of-type {\n",
              "        vertical-align: middle;\n",
              "    }\n",
              "\n",
              "    .dataframe tbody tr th {\n",
              "        vertical-align: top;\n",
              "    }\n",
              "\n",
              "    .dataframe thead th {\n",
              "        text-align: right;\n",
              "    }\n",
              "</style>\n",
              "<table border=\"1\" class=\"dataframe\">\n",
              "  <thead>\n",
              "    <tr style=\"text-align: right;\">\n",
              "      <th></th>\n",
              "      <th>count</th>\n",
              "    </tr>\n",
              "    <tr>\n",
              "      <th>Birth Date</th>\n",
              "      <th></th>\n",
              "    </tr>\n",
              "  </thead>\n",
              "  <tbody>\n",
              "    <tr>\n",
              "      <th>2003/03/06</th>\n",
              "      <td>4</td>\n",
              "    </tr>\n",
              "    <tr>\n",
              "      <th>2004/08/29</th>\n",
              "      <td>4</td>\n",
              "    </tr>\n",
              "    <tr>\n",
              "      <th>2001/02/09</th>\n",
              "      <td>4</td>\n",
              "    </tr>\n",
              "    <tr>\n",
              "      <th>2006/08/02</th>\n",
              "      <td>4</td>\n",
              "    </tr>\n",
              "    <tr>\n",
              "      <th>1998/04/29</th>\n",
              "      <td>4</td>\n",
              "    </tr>\n",
              "    <tr>\n",
              "      <th>...</th>\n",
              "      <td>...</td>\n",
              "    </tr>\n",
              "    <tr>\n",
              "      <th>1994/08/07</th>\n",
              "      <td>1</td>\n",
              "    </tr>\n",
              "    <tr>\n",
              "      <th>2003/07/14</th>\n",
              "      <td>1</td>\n",
              "    </tr>\n",
              "    <tr>\n",
              "      <th>2005/04/30</th>\n",
              "      <td>1</td>\n",
              "    </tr>\n",
              "    <tr>\n",
              "      <th>2004/05/04</th>\n",
              "      <td>1</td>\n",
              "    </tr>\n",
              "    <tr>\n",
              "      <th>1999/06/01</th>\n",
              "      <td>1</td>\n",
              "    </tr>\n",
              "  </tbody>\n",
              "</table>\n",
              "<p>1730 rows × 1 columns</p>\n",
              "</div><br><label><b>dtype:</b> int64</label>"
            ]
          },
          "metadata": {},
          "execution_count": 16
        }
      ]
    },
    {
      "cell_type": "code",
      "source": [
        "x_train['Birth Date'] = pd.to_datetime(df['Birth Date'])\n",
        "x_test['Birth Date'] = pd.to_datetime(df['Birth Date'])"
      ],
      "metadata": {
        "id": "rBJa2VaRdfKG"
      },
      "execution_count": null,
      "outputs": []
    },
    {
      "cell_type": "code",
      "source": [
        "df['Height'].value_counts()"
      ],
      "metadata": {
        "colab": {
          "base_uri": "https://localhost:8080/",
          "height": 489
        },
        "id": "Ej9nSn-aW_Xu",
        "outputId": "1453207c-d45e-437e-aeab-ae7f28fdadcc"
      },
      "execution_count": null,
      "outputs": [
        {
          "output_type": "execute_result",
          "data": {
            "text/plain": [
              "Height\n",
              "1.700000    60\n",
              "1.650000    50\n",
              "1.600000    43\n",
              "1.750000    39\n",
              "1.620000    36\n",
              "            ..\n",
              "1.842943     1\n",
              "1.706082     1\n",
              "1.704141     1\n",
              "1.705813     1\n",
              "1.738836     1\n",
              "Name: count, Length: 1574, dtype: int64"
            ],
            "text/html": [
              "<div>\n",
              "<style scoped>\n",
              "    .dataframe tbody tr th:only-of-type {\n",
              "        vertical-align: middle;\n",
              "    }\n",
              "\n",
              "    .dataframe tbody tr th {\n",
              "        vertical-align: top;\n",
              "    }\n",
              "\n",
              "    .dataframe thead th {\n",
              "        text-align: right;\n",
              "    }\n",
              "</style>\n",
              "<table border=\"1\" class=\"dataframe\">\n",
              "  <thead>\n",
              "    <tr style=\"text-align: right;\">\n",
              "      <th></th>\n",
              "      <th>count</th>\n",
              "    </tr>\n",
              "    <tr>\n",
              "      <th>Height</th>\n",
              "      <th></th>\n",
              "    </tr>\n",
              "  </thead>\n",
              "  <tbody>\n",
              "    <tr>\n",
              "      <th>1.700000</th>\n",
              "      <td>60</td>\n",
              "    </tr>\n",
              "    <tr>\n",
              "      <th>1.650000</th>\n",
              "      <td>50</td>\n",
              "    </tr>\n",
              "    <tr>\n",
              "      <th>1.600000</th>\n",
              "      <td>43</td>\n",
              "    </tr>\n",
              "    <tr>\n",
              "      <th>1.750000</th>\n",
              "      <td>39</td>\n",
              "    </tr>\n",
              "    <tr>\n",
              "      <th>1.620000</th>\n",
              "      <td>36</td>\n",
              "    </tr>\n",
              "    <tr>\n",
              "      <th>...</th>\n",
              "      <td>...</td>\n",
              "    </tr>\n",
              "    <tr>\n",
              "      <th>1.842943</th>\n",
              "      <td>1</td>\n",
              "    </tr>\n",
              "    <tr>\n",
              "      <th>1.706082</th>\n",
              "      <td>1</td>\n",
              "    </tr>\n",
              "    <tr>\n",
              "      <th>1.704141</th>\n",
              "      <td>1</td>\n",
              "    </tr>\n",
              "    <tr>\n",
              "      <th>1.705813</th>\n",
              "      <td>1</td>\n",
              "    </tr>\n",
              "    <tr>\n",
              "      <th>1.738836</th>\n",
              "      <td>1</td>\n",
              "    </tr>\n",
              "  </tbody>\n",
              "</table>\n",
              "<p>1574 rows × 1 columns</p>\n",
              "</div><br><label><b>dtype:</b> int64</label>"
            ]
          },
          "metadata": {},
          "execution_count": 18
        }
      ]
    },
    {
      "cell_type": "code",
      "source": [
        "df['Weight'].value_counts()"
      ],
      "metadata": {
        "colab": {
          "base_uri": "https://localhost:8080/",
          "height": 489
        },
        "id": "napETNukdBOn",
        "outputId": "9e5a538c-1f82-4596-813d-f1da95b83b9c"
      },
      "execution_count": null,
      "outputs": [
        {
          "output_type": "execute_result",
          "data": {
            "text/plain": [
              "Weight\n",
              "delapan puluh    59\n",
              "70.0             43\n",
              "50.0             42\n",
              "75.0             40\n",
              "60.0             37\n",
              "                 ..\n",
              "65.140408         1\n",
              "87.27989          1\n",
              "67.083121         1\n",
              "90.13868          1\n",
              "133.472641        1\n",
              "Name: count, Length: 1525, dtype: int64"
            ],
            "text/html": [
              "<div>\n",
              "<style scoped>\n",
              "    .dataframe tbody tr th:only-of-type {\n",
              "        vertical-align: middle;\n",
              "    }\n",
              "\n",
              "    .dataframe tbody tr th {\n",
              "        vertical-align: top;\n",
              "    }\n",
              "\n",
              "    .dataframe thead th {\n",
              "        text-align: right;\n",
              "    }\n",
              "</style>\n",
              "<table border=\"1\" class=\"dataframe\">\n",
              "  <thead>\n",
              "    <tr style=\"text-align: right;\">\n",
              "      <th></th>\n",
              "      <th>count</th>\n",
              "    </tr>\n",
              "    <tr>\n",
              "      <th>Weight</th>\n",
              "      <th></th>\n",
              "    </tr>\n",
              "  </thead>\n",
              "  <tbody>\n",
              "    <tr>\n",
              "      <th>delapan puluh</th>\n",
              "      <td>59</td>\n",
              "    </tr>\n",
              "    <tr>\n",
              "      <th>70.0</th>\n",
              "      <td>43</td>\n",
              "    </tr>\n",
              "    <tr>\n",
              "      <th>50.0</th>\n",
              "      <td>42</td>\n",
              "    </tr>\n",
              "    <tr>\n",
              "      <th>75.0</th>\n",
              "      <td>40</td>\n",
              "    </tr>\n",
              "    <tr>\n",
              "      <th>60.0</th>\n",
              "      <td>37</td>\n",
              "    </tr>\n",
              "    <tr>\n",
              "      <th>...</th>\n",
              "      <td>...</td>\n",
              "    </tr>\n",
              "    <tr>\n",
              "      <th>65.140408</th>\n",
              "      <td>1</td>\n",
              "    </tr>\n",
              "    <tr>\n",
              "      <th>87.27989</th>\n",
              "      <td>1</td>\n",
              "    </tr>\n",
              "    <tr>\n",
              "      <th>67.083121</th>\n",
              "      <td>1</td>\n",
              "    </tr>\n",
              "    <tr>\n",
              "      <th>90.13868</th>\n",
              "      <td>1</td>\n",
              "    </tr>\n",
              "    <tr>\n",
              "      <th>133.472641</th>\n",
              "      <td>1</td>\n",
              "    </tr>\n",
              "  </tbody>\n",
              "</table>\n",
              "<p>1525 rows × 1 columns</p>\n",
              "</div><br><label><b>dtype:</b> int64</label>"
            ]
          },
          "metadata": {},
          "execution_count": 19
        }
      ]
    },
    {
      "cell_type": "code",
      "source": [
        "x_test['Weight'].replace('delapan puluh',\"80\", inplace=True)\n",
        "x_train['Weight'].replace('delapan puluh',\"80\", inplace=True)"
      ],
      "metadata": {
        "id": "rv1CUCCsdFtX",
        "colab": {
          "base_uri": "https://localhost:8080/"
        },
        "outputId": "91bf9b1c-7c74-477f-86b1-3fc605c01d2d"
      },
      "execution_count": null,
      "outputs": [
        {
          "output_type": "stream",
          "name": "stderr",
          "text": [
            "<ipython-input-20-cbc28553ac67>:1: FutureWarning: A value is trying to be set on a copy of a DataFrame or Series through chained assignment using an inplace method.\n",
            "The behavior will change in pandas 3.0. This inplace method will never work because the intermediate object on which we are setting values always behaves as a copy.\n",
            "\n",
            "For example, when doing 'df[col].method(value, inplace=True)', try using 'df.method({col: value}, inplace=True)' or df[col] = df[col].method(value) instead, to perform the operation inplace on the original object.\n",
            "\n",
            "\n",
            "  x_test['Weight'].replace('delapan puluh',\"80\", inplace=True)\n",
            "<ipython-input-20-cbc28553ac67>:2: FutureWarning: A value is trying to be set on a copy of a DataFrame or Series through chained assignment using an inplace method.\n",
            "The behavior will change in pandas 3.0. This inplace method will never work because the intermediate object on which we are setting values always behaves as a copy.\n",
            "\n",
            "For example, when doing 'df[col].method(value, inplace=True)', try using 'df.method({col: value}, inplace=True)' or df[col] = df[col].method(value) instead, to perform the operation inplace on the original object.\n",
            "\n",
            "\n",
            "  x_train['Weight'].replace('delapan puluh',\"80\", inplace=True)\n"
          ]
        }
      ]
    },
    {
      "cell_type": "code",
      "source": [
        "x_test['Weight'] = x_test['Weight'].astype(str).astype(float)\n",
        "x_train['Weight'] = x_train['Weight'].astype(str).astype(float)"
      ],
      "metadata": {
        "id": "S0o1ioRihwhB"
      },
      "execution_count": null,
      "outputs": []
    },
    {
      "cell_type": "code",
      "source": [
        "df['family_history_with_overweight'].value_counts()"
      ],
      "metadata": {
        "colab": {
          "base_uri": "https://localhost:8080/",
          "height": 178
        },
        "id": "rOvX1GX3dTrb",
        "outputId": "9dcf9bc0-a83b-49f9-f594-34910a76cb2a"
      },
      "execution_count": null,
      "outputs": [
        {
          "output_type": "execute_result",
          "data": {
            "text/plain": [
              "family_history_with_overweight\n",
              "yes    1726\n",
              "no      385\n",
              "Name: count, dtype: int64"
            ],
            "text/html": [
              "<div>\n",
              "<style scoped>\n",
              "    .dataframe tbody tr th:only-of-type {\n",
              "        vertical-align: middle;\n",
              "    }\n",
              "\n",
              "    .dataframe tbody tr th {\n",
              "        vertical-align: top;\n",
              "    }\n",
              "\n",
              "    .dataframe thead th {\n",
              "        text-align: right;\n",
              "    }\n",
              "</style>\n",
              "<table border=\"1\" class=\"dataframe\">\n",
              "  <thead>\n",
              "    <tr style=\"text-align: right;\">\n",
              "      <th></th>\n",
              "      <th>count</th>\n",
              "    </tr>\n",
              "    <tr>\n",
              "      <th>family_history_with_overweight</th>\n",
              "      <th></th>\n",
              "    </tr>\n",
              "  </thead>\n",
              "  <tbody>\n",
              "    <tr>\n",
              "      <th>yes</th>\n",
              "      <td>1726</td>\n",
              "    </tr>\n",
              "    <tr>\n",
              "      <th>no</th>\n",
              "      <td>385</td>\n",
              "    </tr>\n",
              "  </tbody>\n",
              "</table>\n",
              "</div><br><label><b>dtype:</b> int64</label>"
            ]
          },
          "metadata": {},
          "execution_count": 22
        }
      ]
    },
    {
      "cell_type": "code",
      "source": [
        "df['High Calorie Meal Freq'].value_counts()"
      ],
      "metadata": {
        "colab": {
          "base_uri": "https://localhost:8080/",
          "height": 178
        },
        "id": "ulh3ODinhSYH",
        "outputId": "c41f697f-604c-4aab-9368-407123a3ab37"
      },
      "execution_count": null,
      "outputs": [
        {
          "output_type": "execute_result",
          "data": {
            "text/plain": [
              "High Calorie Meal Freq\n",
              "yes    1866\n",
              "no      245\n",
              "Name: count, dtype: int64"
            ],
            "text/html": [
              "<div>\n",
              "<style scoped>\n",
              "    .dataframe tbody tr th:only-of-type {\n",
              "        vertical-align: middle;\n",
              "    }\n",
              "\n",
              "    .dataframe tbody tr th {\n",
              "        vertical-align: top;\n",
              "    }\n",
              "\n",
              "    .dataframe thead th {\n",
              "        text-align: right;\n",
              "    }\n",
              "</style>\n",
              "<table border=\"1\" class=\"dataframe\">\n",
              "  <thead>\n",
              "    <tr style=\"text-align: right;\">\n",
              "      <th></th>\n",
              "      <th>count</th>\n",
              "    </tr>\n",
              "    <tr>\n",
              "      <th>High Calorie Meal Freq</th>\n",
              "      <th></th>\n",
              "    </tr>\n",
              "  </thead>\n",
              "  <tbody>\n",
              "    <tr>\n",
              "      <th>yes</th>\n",
              "      <td>1866</td>\n",
              "    </tr>\n",
              "    <tr>\n",
              "      <th>no</th>\n",
              "      <td>245</td>\n",
              "    </tr>\n",
              "  </tbody>\n",
              "</table>\n",
              "</div><br><label><b>dtype:</b> int64</label>"
            ]
          },
          "metadata": {},
          "execution_count": 23
        }
      ]
    },
    {
      "cell_type": "code",
      "source": [
        "df['Veggies in Meals freq'].value_counts()"
      ],
      "metadata": {
        "colab": {
          "base_uri": "https://localhost:8080/",
          "height": 489
        },
        "id": "IfE086hNQA_u",
        "outputId": "6931513d-f299-454d-9aa8-932788f5fa94"
      },
      "execution_count": null,
      "outputs": [
        {
          "output_type": "execute_result",
          "data": {
            "text/plain": [
              "Veggies in Meals freq\n",
              "3.000000    652\n",
              "2.000000    600\n",
              "1.000000     33\n",
              "2.823179      2\n",
              "2.214980      2\n",
              "           ... \n",
              "2.927409      1\n",
              "2.706134      1\n",
              "2.010684      1\n",
              "2.300408      1\n",
              "2.680375      1\n",
              "Name: count, Length: 810, dtype: int64"
            ],
            "text/html": [
              "<div>\n",
              "<style scoped>\n",
              "    .dataframe tbody tr th:only-of-type {\n",
              "        vertical-align: middle;\n",
              "    }\n",
              "\n",
              "    .dataframe tbody tr th {\n",
              "        vertical-align: top;\n",
              "    }\n",
              "\n",
              "    .dataframe thead th {\n",
              "        text-align: right;\n",
              "    }\n",
              "</style>\n",
              "<table border=\"1\" class=\"dataframe\">\n",
              "  <thead>\n",
              "    <tr style=\"text-align: right;\">\n",
              "      <th></th>\n",
              "      <th>count</th>\n",
              "    </tr>\n",
              "    <tr>\n",
              "      <th>Veggies in Meals freq</th>\n",
              "      <th></th>\n",
              "    </tr>\n",
              "  </thead>\n",
              "  <tbody>\n",
              "    <tr>\n",
              "      <th>3.000000</th>\n",
              "      <td>652</td>\n",
              "    </tr>\n",
              "    <tr>\n",
              "      <th>2.000000</th>\n",
              "      <td>600</td>\n",
              "    </tr>\n",
              "    <tr>\n",
              "      <th>1.000000</th>\n",
              "      <td>33</td>\n",
              "    </tr>\n",
              "    <tr>\n",
              "      <th>2.823179</th>\n",
              "      <td>2</td>\n",
              "    </tr>\n",
              "    <tr>\n",
              "      <th>2.214980</th>\n",
              "      <td>2</td>\n",
              "    </tr>\n",
              "    <tr>\n",
              "      <th>...</th>\n",
              "      <td>...</td>\n",
              "    </tr>\n",
              "    <tr>\n",
              "      <th>2.927409</th>\n",
              "      <td>1</td>\n",
              "    </tr>\n",
              "    <tr>\n",
              "      <th>2.706134</th>\n",
              "      <td>1</td>\n",
              "    </tr>\n",
              "    <tr>\n",
              "      <th>2.010684</th>\n",
              "      <td>1</td>\n",
              "    </tr>\n",
              "    <tr>\n",
              "      <th>2.300408</th>\n",
              "      <td>1</td>\n",
              "    </tr>\n",
              "    <tr>\n",
              "      <th>2.680375</th>\n",
              "      <td>1</td>\n",
              "    </tr>\n",
              "  </tbody>\n",
              "</table>\n",
              "<p>810 rows × 1 columns</p>\n",
              "</div><br><label><b>dtype:</b> int64</label>"
            ]
          },
          "metadata": {},
          "execution_count": 24
        }
      ]
    },
    {
      "cell_type": "code",
      "source": [
        "df['Daily Main Meals'].value_counts()"
      ],
      "metadata": {
        "colab": {
          "base_uri": "https://localhost:8080/",
          "height": 489
        },
        "id": "wzWm1dOUQEKd",
        "outputId": "c6a949f8-0af5-47a5-87c9-f344059b1487"
      },
      "execution_count": null,
      "outputs": [
        {
          "output_type": "execute_result",
          "data": {
            "text/plain": [
              "Daily Main Meals\n",
              "3.000000    1203\n",
              "1.000000     199\n",
              "4.000000      69\n",
              "2.776840       2\n",
              "3.985442       2\n",
              "            ... \n",
              "3.054899       1\n",
              "3.118013       1\n",
              "3.335876       1\n",
              "3.205009       1\n",
              "1.089048       1\n",
              "Name: count, Length: 635, dtype: int64"
            ],
            "text/html": [
              "<div>\n",
              "<style scoped>\n",
              "    .dataframe tbody tr th:only-of-type {\n",
              "        vertical-align: middle;\n",
              "    }\n",
              "\n",
              "    .dataframe tbody tr th {\n",
              "        vertical-align: top;\n",
              "    }\n",
              "\n",
              "    .dataframe thead th {\n",
              "        text-align: right;\n",
              "    }\n",
              "</style>\n",
              "<table border=\"1\" class=\"dataframe\">\n",
              "  <thead>\n",
              "    <tr style=\"text-align: right;\">\n",
              "      <th></th>\n",
              "      <th>count</th>\n",
              "    </tr>\n",
              "    <tr>\n",
              "      <th>Daily Main Meals</th>\n",
              "      <th></th>\n",
              "    </tr>\n",
              "  </thead>\n",
              "  <tbody>\n",
              "    <tr>\n",
              "      <th>3.000000</th>\n",
              "      <td>1203</td>\n",
              "    </tr>\n",
              "    <tr>\n",
              "      <th>1.000000</th>\n",
              "      <td>199</td>\n",
              "    </tr>\n",
              "    <tr>\n",
              "      <th>4.000000</th>\n",
              "      <td>69</td>\n",
              "    </tr>\n",
              "    <tr>\n",
              "      <th>2.776840</th>\n",
              "      <td>2</td>\n",
              "    </tr>\n",
              "    <tr>\n",
              "      <th>3.985442</th>\n",
              "      <td>2</td>\n",
              "    </tr>\n",
              "    <tr>\n",
              "      <th>...</th>\n",
              "      <td>...</td>\n",
              "    </tr>\n",
              "    <tr>\n",
              "      <th>3.054899</th>\n",
              "      <td>1</td>\n",
              "    </tr>\n",
              "    <tr>\n",
              "      <th>3.118013</th>\n",
              "      <td>1</td>\n",
              "    </tr>\n",
              "    <tr>\n",
              "      <th>3.335876</th>\n",
              "      <td>1</td>\n",
              "    </tr>\n",
              "    <tr>\n",
              "      <th>3.205009</th>\n",
              "      <td>1</td>\n",
              "    </tr>\n",
              "    <tr>\n",
              "      <th>1.089048</th>\n",
              "      <td>1</td>\n",
              "    </tr>\n",
              "  </tbody>\n",
              "</table>\n",
              "<p>635 rows × 1 columns</p>\n",
              "</div><br><label><b>dtype:</b> int64</label>"
            ]
          },
          "metadata": {},
          "execution_count": 25
        }
      ]
    },
    {
      "cell_type": "code",
      "source": [
        "df['Smoking'].value_counts()"
      ],
      "metadata": {
        "colab": {
          "base_uri": "https://localhost:8080/",
          "height": 209
        },
        "id": "MR71VJt1hTph",
        "outputId": "65078a8d-dd2c-4891-eba6-86d25676a74d"
      },
      "execution_count": null,
      "outputs": [
        {
          "output_type": "execute_result",
          "data": {
            "text/plain": [
              "Smoking\n",
              "no      2064\n",
              "yes       44\n",
              "hehe       3\n",
              "Name: count, dtype: int64"
            ],
            "text/html": [
              "<div>\n",
              "<style scoped>\n",
              "    .dataframe tbody tr th:only-of-type {\n",
              "        vertical-align: middle;\n",
              "    }\n",
              "\n",
              "    .dataframe tbody tr th {\n",
              "        vertical-align: top;\n",
              "    }\n",
              "\n",
              "    .dataframe thead th {\n",
              "        text-align: right;\n",
              "    }\n",
              "</style>\n",
              "<table border=\"1\" class=\"dataframe\">\n",
              "  <thead>\n",
              "    <tr style=\"text-align: right;\">\n",
              "      <th></th>\n",
              "      <th>count</th>\n",
              "    </tr>\n",
              "    <tr>\n",
              "      <th>Smoking</th>\n",
              "      <th></th>\n",
              "    </tr>\n",
              "  </thead>\n",
              "  <tbody>\n",
              "    <tr>\n",
              "      <th>no</th>\n",
              "      <td>2064</td>\n",
              "    </tr>\n",
              "    <tr>\n",
              "      <th>yes</th>\n",
              "      <td>44</td>\n",
              "    </tr>\n",
              "    <tr>\n",
              "      <th>hehe</th>\n",
              "      <td>3</td>\n",
              "    </tr>\n",
              "  </tbody>\n",
              "</table>\n",
              "</div><br><label><b>dtype:</b> int64</label>"
            ]
          },
          "metadata": {},
          "execution_count": 26
        }
      ]
    },
    {
      "cell_type": "code",
      "source": [
        "x_train['Smoking'].replace('hehe',\"no\", inplace=True)\n",
        "x_test['Smoking'].replace('hehe',\"no\", inplace=True)"
      ],
      "metadata": {
        "id": "HmtwnBQThfaf",
        "colab": {
          "base_uri": "https://localhost:8080/"
        },
        "outputId": "4488afe5-0afb-4797-810e-728fb63c5745"
      },
      "execution_count": null,
      "outputs": [
        {
          "output_type": "stream",
          "name": "stderr",
          "text": [
            "<ipython-input-28-c59ee2985e49>:1: FutureWarning: A value is trying to be set on a copy of a DataFrame or Series through chained assignment using an inplace method.\n",
            "The behavior will change in pandas 3.0. This inplace method will never work because the intermediate object on which we are setting values always behaves as a copy.\n",
            "\n",
            "For example, when doing 'df[col].method(value, inplace=True)', try using 'df.method({col: value}, inplace=True)' or df[col] = df[col].method(value) instead, to perform the operation inplace on the original object.\n",
            "\n",
            "\n",
            "  x_train['Smoking'].replace('hehe',\"no\", inplace=True)\n",
            "<ipython-input-28-c59ee2985e49>:2: FutureWarning: A value is trying to be set on a copy of a DataFrame or Series through chained assignment using an inplace method.\n",
            "The behavior will change in pandas 3.0. This inplace method will never work because the intermediate object on which we are setting values always behaves as a copy.\n",
            "\n",
            "For example, when doing 'df[col].method(value, inplace=True)', try using 'df.method({col: value}, inplace=True)' or df[col] = df[col].method(value) instead, to perform the operation inplace on the original object.\n",
            "\n",
            "\n",
            "  x_test['Smoking'].replace('hehe',\"no\", inplace=True)\n"
          ]
        }
      ]
    },
    {
      "cell_type": "code",
      "source": [
        "df['Alcohol'].value_counts()"
      ],
      "metadata": {
        "colab": {
          "base_uri": "https://localhost:8080/",
          "height": 241
        },
        "id": "XKyv9f9RA7c8",
        "outputId": "9d17d802-6e4f-4453-8879-99554f92b92a"
      },
      "execution_count": null,
      "outputs": [
        {
          "output_type": "execute_result",
          "data": {
            "text/plain": [
              "Alcohol\n",
              "Sometimes     1401\n",
              "no             639\n",
              "Frequently      70\n",
              "Always           1\n",
              "Name: count, dtype: int64"
            ],
            "text/html": [
              "<div>\n",
              "<style scoped>\n",
              "    .dataframe tbody tr th:only-of-type {\n",
              "        vertical-align: middle;\n",
              "    }\n",
              "\n",
              "    .dataframe tbody tr th {\n",
              "        vertical-align: top;\n",
              "    }\n",
              "\n",
              "    .dataframe thead th {\n",
              "        text-align: right;\n",
              "    }\n",
              "</style>\n",
              "<table border=\"1\" class=\"dataframe\">\n",
              "  <thead>\n",
              "    <tr style=\"text-align: right;\">\n",
              "      <th></th>\n",
              "      <th>count</th>\n",
              "    </tr>\n",
              "    <tr>\n",
              "      <th>Alcohol</th>\n",
              "      <th></th>\n",
              "    </tr>\n",
              "  </thead>\n",
              "  <tbody>\n",
              "    <tr>\n",
              "      <th>Sometimes</th>\n",
              "      <td>1401</td>\n",
              "    </tr>\n",
              "    <tr>\n",
              "      <th>no</th>\n",
              "      <td>639</td>\n",
              "    </tr>\n",
              "    <tr>\n",
              "      <th>Frequently</th>\n",
              "      <td>70</td>\n",
              "    </tr>\n",
              "    <tr>\n",
              "      <th>Always</th>\n",
              "      <td>1</td>\n",
              "    </tr>\n",
              "  </tbody>\n",
              "</table>\n",
              "</div><br><label><b>dtype:</b> int64</label>"
            ]
          },
          "metadata": {},
          "execution_count": 62
        }
      ]
    },
    {
      "cell_type": "code",
      "source": [
        "df['Transportation'].value_counts()"
      ],
      "metadata": {
        "id": "oYNFDhYVSB8A",
        "outputId": "2b0d8a11-382c-4f49-bb31-4967e46f84e5",
        "colab": {
          "base_uri": "https://localhost:8080/",
          "height": 272
        }
      },
      "execution_count": null,
      "outputs": [
        {
          "output_type": "execute_result",
          "data": {
            "text/plain": [
              "Transportation\n",
              "Public_Transportation    1580\n",
              "Automobile                457\n",
              "Walking                    56\n",
              "Motorbike                  11\n",
              "Bike                        7\n",
              "Name: count, dtype: int64"
            ],
            "text/html": [
              "<div>\n",
              "<style scoped>\n",
              "    .dataframe tbody tr th:only-of-type {\n",
              "        vertical-align: middle;\n",
              "    }\n",
              "\n",
              "    .dataframe tbody tr th {\n",
              "        vertical-align: top;\n",
              "    }\n",
              "\n",
              "    .dataframe thead th {\n",
              "        text-align: right;\n",
              "    }\n",
              "</style>\n",
              "<table border=\"1\" class=\"dataframe\">\n",
              "  <thead>\n",
              "    <tr style=\"text-align: right;\">\n",
              "      <th></th>\n",
              "      <th>count</th>\n",
              "    </tr>\n",
              "    <tr>\n",
              "      <th>Transportation</th>\n",
              "      <th></th>\n",
              "    </tr>\n",
              "  </thead>\n",
              "  <tbody>\n",
              "    <tr>\n",
              "      <th>Public_Transportation</th>\n",
              "      <td>1580</td>\n",
              "    </tr>\n",
              "    <tr>\n",
              "      <th>Automobile</th>\n",
              "      <td>457</td>\n",
              "    </tr>\n",
              "    <tr>\n",
              "      <th>Walking</th>\n",
              "      <td>56</td>\n",
              "    </tr>\n",
              "    <tr>\n",
              "      <th>Motorbike</th>\n",
              "      <td>11</td>\n",
              "    </tr>\n",
              "    <tr>\n",
              "      <th>Bike</th>\n",
              "      <td>7</td>\n",
              "    </tr>\n",
              "  </tbody>\n",
              "</table>\n",
              "</div><br><label><b>dtype:</b> int64</label>"
            ]
          },
          "metadata": {},
          "execution_count": 63
        }
      ]
    },
    {
      "cell_type": "code",
      "source": [
        "label_encoding = preprocessing.LabelEncoder()\n",
        "\n",
        "x_train['Gender'] = label_encoding.fit_transform(x_train['Gender'])\n",
        "x_test['Gender'] = label_encoding.fit_transform(x_test['Gender'])\n",
        "\n",
        "x_train['family_history_with_overweight'] = label_encoding.fit_transform(x_train['family_history_with_overweight'])\n",
        "x_test['family_history_with_overweight'] = label_encoding.fit_transform(x_test['family_history_with_overweight'])\n",
        "\n",
        "x_train['High Calorie Meal Freq'] = label_encoding.fit_transform(x_train['High Calorie Meal Freq'])\n",
        "x_test['High Calorie Meal Freq'] = label_encoding.fit_transform(x_test['High Calorie Meal Freq'])\n",
        "\n",
        "x_train['Smoking'] = label_encoding.fit_transform(x_train['Smoking'])\n",
        "x_test['Smoking'] = label_encoding.fit_transform(x_test['Smoking'])"
      ],
      "metadata": {
        "id": "8OW1aM4GhmF7"
      },
      "execution_count": null,
      "outputs": []
    },
    {
      "cell_type": "code",
      "source": [
        "df['Obesity level'].value_counts()"
      ],
      "metadata": {
        "colab": {
          "base_uri": "https://localhost:8080/",
          "height": 335
        },
        "id": "5x6jvBKic58f",
        "outputId": "84667f9c-8f66-4c1c-8a74-b4869c5711bc"
      },
      "execution_count": null,
      "outputs": [
        {
          "output_type": "execute_result",
          "data": {
            "text/plain": [
              "Obesity level\n",
              "4.0    351\n",
              "6.0    324\n",
              "5.0    297\n",
              "2.0    290\n",
              "3.0    290\n",
              "1.0    287\n",
              "0.0    272\n",
              "Name: count, dtype: int64"
            ],
            "text/html": [
              "<div>\n",
              "<style scoped>\n",
              "    .dataframe tbody tr th:only-of-type {\n",
              "        vertical-align: middle;\n",
              "    }\n",
              "\n",
              "    .dataframe tbody tr th {\n",
              "        vertical-align: top;\n",
              "    }\n",
              "\n",
              "    .dataframe thead th {\n",
              "        text-align: right;\n",
              "    }\n",
              "</style>\n",
              "<table border=\"1\" class=\"dataframe\">\n",
              "  <thead>\n",
              "    <tr style=\"text-align: right;\">\n",
              "      <th></th>\n",
              "      <th>count</th>\n",
              "    </tr>\n",
              "    <tr>\n",
              "      <th>Obesity level</th>\n",
              "      <th></th>\n",
              "    </tr>\n",
              "  </thead>\n",
              "  <tbody>\n",
              "    <tr>\n",
              "      <th>4.0</th>\n",
              "      <td>351</td>\n",
              "    </tr>\n",
              "    <tr>\n",
              "      <th>6.0</th>\n",
              "      <td>324</td>\n",
              "    </tr>\n",
              "    <tr>\n",
              "      <th>5.0</th>\n",
              "      <td>297</td>\n",
              "    </tr>\n",
              "    <tr>\n",
              "      <th>2.0</th>\n",
              "      <td>290</td>\n",
              "    </tr>\n",
              "    <tr>\n",
              "      <th>3.0</th>\n",
              "      <td>290</td>\n",
              "    </tr>\n",
              "    <tr>\n",
              "      <th>1.0</th>\n",
              "      <td>287</td>\n",
              "    </tr>\n",
              "    <tr>\n",
              "      <th>0.0</th>\n",
              "      <td>272</td>\n",
              "    </tr>\n",
              "  </tbody>\n",
              "</table>\n",
              "</div><br><label><b>dtype:</b> int64</label>"
            ]
          },
          "metadata": {},
          "execution_count": 30
        }
      ]
    },
    {
      "cell_type": "code",
      "source": [
        "a = ['Always', 'Frequently', 'Sometimes', 'no']\n",
        "\n",
        "x_train['Alcohol'] = x_train['Alcohol'].astype(str)\n",
        "x_test['Alcohol'] = x_test['Alcohol'].astype(str)\n",
        "\n",
        "x_train['Snack Frequency'] = x_train['Snack Frequency'].astype(str)\n",
        "x_test['Snack Frequency'] = x_test['Snack Frequency'].astype(str)\n",
        "\n",
        "encode1 = OrdinalEncoder(categories=[a], handle_unknown='use_encoded_value', unknown_value=-1)\n",
        "x_train['Alcohol'] = encode1.fit_transform(x_train[['Alcohol']])\n",
        "x_test['Alcohol'] = encode1.fit_transform(x_test[['Alcohol']])\n",
        "\n",
        "x_train['Snack Frequency'] = encode1.fit_transform(x_train[['Snack Frequency']])\n",
        "x_test['Snack Frequency'] = encode1.fit_transform(x_test[['Snack Frequency']])"
      ],
      "metadata": {
        "id": "C49IIRHmkWQK"
      },
      "execution_count": null,
      "outputs": []
    },
    {
      "cell_type": "code",
      "source": [
        "encode2 = OneHotEncoder()\n",
        "x_train_prof_enc = pd.DataFrame(encode2.fit_transform(x_train[['Transportation']]).toarray(),columns=encode2.get_feature_names_out())\n",
        "x_train=x_train.reset_index()\n",
        "x_train=pd.concat([x_train,x_train_prof_enc], axis=1)\n",
        "\n",
        "x_test_prof_enc = pd.DataFrame(encode2.fit_transform(x_test[['Transportation']]).toarray(),columns=encode2.get_feature_names_out())\n",
        "x_test=x_test.reset_index()\n",
        "x_test=pd.concat([x_test,x_test_prof_enc], axis=1)"
      ],
      "metadata": {
        "id": "3npXQRwVlkr8"
      },
      "execution_count": null,
      "outputs": []
    },
    {
      "cell_type": "code",
      "source": [
        "x_test = x_test.drop('Transportation', axis = 1)\n",
        "x_train = x_train.drop('Transportation', axis = 1)"
      ],
      "metadata": {
        "id": "tLjfIvhHm9DX"
      },
      "execution_count": null,
      "outputs": []
    },
    {
      "cell_type": "code",
      "source": [
        "x_test = x_test.drop('Birth Date', axis = 1)\n",
        "x_train = x_train.drop('Birth Date', axis = 1)"
      ],
      "metadata": {
        "id": "Cv_WFnxDmoON"
      },
      "execution_count": null,
      "outputs": []
    },
    {
      "cell_type": "code",
      "source": [
        "x_test.info()"
      ],
      "metadata": {
        "colab": {
          "base_uri": "https://localhost:8080/"
        },
        "id": "L-Zow8nAmpIX",
        "outputId": "fd0082d9-ca79-4bb5-c83f-09721e90d26d"
      },
      "execution_count": null,
      "outputs": [
        {
          "output_type": "stream",
          "name": "stdout",
          "text": [
            "<class 'pandas.core.frame.DataFrame'>\n",
            "RangeIndex: 423 entries, 0 to 422\n",
            "Data columns (total 18 columns):\n",
            " #   Column                                Non-Null Count  Dtype  \n",
            "---  ------                                --------------  -----  \n",
            " 0   index                                 423 non-null    int64  \n",
            " 1   Gender                                423 non-null    int64  \n",
            " 2   Height                                423 non-null    float64\n",
            " 3   Weight                                423 non-null    float64\n",
            " 4   family_history_with_overweight        423 non-null    int64  \n",
            " 5   High Calorie Meal Freq                423 non-null    int64  \n",
            " 6   Veggies in Meals freq                 423 non-null    float64\n",
            " 7   Daily Main Meals                      423 non-null    float64\n",
            " 8   Snack Frequency                       423 non-null    float64\n",
            " 9   Smoking                               423 non-null    int64  \n",
            " 10  Daily Water Consumption               423 non-null    float64\n",
            " 11  Weekly Physical Activity              423 non-null    float64\n",
            " 12  Alcohol                               423 non-null    float64\n",
            " 13  Transportation_Automobile             423 non-null    float64\n",
            " 14  Transportation_Bike                   423 non-null    float64\n",
            " 15  Transportation_Motorbike              423 non-null    float64\n",
            " 16  Transportation_Public_Transportation  423 non-null    float64\n",
            " 17  Transportation_Walking                423 non-null    float64\n",
            "dtypes: float64(13), int64(5)\n",
            "memory usage: 59.6 KB\n"
          ]
        }
      ]
    },
    {
      "cell_type": "code",
      "source": [
        "x_train = x_train.drop('index', axis = 1)\n",
        "x_test = x_test.drop('index', axis = 1)"
      ],
      "metadata": {
        "id": "E1s0OMXEcSEh"
      },
      "execution_count": null,
      "outputs": []
    },
    {
      "cell_type": "code",
      "source": [
        "from sklearn.ensemble import RandomForestClassifier\n",
        "import warnings\n",
        "warnings.filterwarnings('ignore')\n",
        "\n",
        "RF_class = RandomForestClassifier(criterion= 'entropy',max_depth=4)\n",
        "RF_class.fit(x_train, y_train)"
      ],
      "metadata": {
        "colab": {
          "base_uri": "https://localhost:8080/",
          "height": 74
        },
        "id": "FrQGfm43pSZE",
        "outputId": "c917c8a3-0c28-4e83-c99e-31d448c2ba4e"
      },
      "execution_count": null,
      "outputs": [
        {
          "output_type": "execute_result",
          "data": {
            "text/plain": [
              "RandomForestClassifier(criterion='entropy', max_depth=4)"
            ],
            "text/html": [
              "<style>#sk-container-id-1 {color: black;}#sk-container-id-1 pre{padding: 0;}#sk-container-id-1 div.sk-toggleable {background-color: white;}#sk-container-id-1 label.sk-toggleable__label {cursor: pointer;display: block;width: 100%;margin-bottom: 0;padding: 0.3em;box-sizing: border-box;text-align: center;}#sk-container-id-1 label.sk-toggleable__label-arrow:before {content: \"▸\";float: left;margin-right: 0.25em;color: #696969;}#sk-container-id-1 label.sk-toggleable__label-arrow:hover:before {color: black;}#sk-container-id-1 div.sk-estimator:hover label.sk-toggleable__label-arrow:before {color: black;}#sk-container-id-1 div.sk-toggleable__content {max-height: 0;max-width: 0;overflow: hidden;text-align: left;background-color: #f0f8ff;}#sk-container-id-1 div.sk-toggleable__content pre {margin: 0.2em;color: black;border-radius: 0.25em;background-color: #f0f8ff;}#sk-container-id-1 input.sk-toggleable__control:checked~div.sk-toggleable__content {max-height: 200px;max-width: 100%;overflow: auto;}#sk-container-id-1 input.sk-toggleable__control:checked~label.sk-toggleable__label-arrow:before {content: \"▾\";}#sk-container-id-1 div.sk-estimator input.sk-toggleable__control:checked~label.sk-toggleable__label {background-color: #d4ebff;}#sk-container-id-1 div.sk-label input.sk-toggleable__control:checked~label.sk-toggleable__label {background-color: #d4ebff;}#sk-container-id-1 input.sk-hidden--visually {border: 0;clip: rect(1px 1px 1px 1px);clip: rect(1px, 1px, 1px, 1px);height: 1px;margin: -1px;overflow: hidden;padding: 0;position: absolute;width: 1px;}#sk-container-id-1 div.sk-estimator {font-family: monospace;background-color: #f0f8ff;border: 1px dotted black;border-radius: 0.25em;box-sizing: border-box;margin-bottom: 0.5em;}#sk-container-id-1 div.sk-estimator:hover {background-color: #d4ebff;}#sk-container-id-1 div.sk-parallel-item::after {content: \"\";width: 100%;border-bottom: 1px solid gray;flex-grow: 1;}#sk-container-id-1 div.sk-label:hover label.sk-toggleable__label {background-color: #d4ebff;}#sk-container-id-1 div.sk-serial::before {content: \"\";position: absolute;border-left: 1px solid gray;box-sizing: border-box;top: 0;bottom: 0;left: 50%;z-index: 0;}#sk-container-id-1 div.sk-serial {display: flex;flex-direction: column;align-items: center;background-color: white;padding-right: 0.2em;padding-left: 0.2em;position: relative;}#sk-container-id-1 div.sk-item {position: relative;z-index: 1;}#sk-container-id-1 div.sk-parallel {display: flex;align-items: stretch;justify-content: center;background-color: white;position: relative;}#sk-container-id-1 div.sk-item::before, #sk-container-id-1 div.sk-parallel-item::before {content: \"\";position: absolute;border-left: 1px solid gray;box-sizing: border-box;top: 0;bottom: 0;left: 50%;z-index: -1;}#sk-container-id-1 div.sk-parallel-item {display: flex;flex-direction: column;z-index: 1;position: relative;background-color: white;}#sk-container-id-1 div.sk-parallel-item:first-child::after {align-self: flex-end;width: 50%;}#sk-container-id-1 div.sk-parallel-item:last-child::after {align-self: flex-start;width: 50%;}#sk-container-id-1 div.sk-parallel-item:only-child::after {width: 0;}#sk-container-id-1 div.sk-dashed-wrapped {border: 1px dashed gray;margin: 0 0.4em 0.5em 0.4em;box-sizing: border-box;padding-bottom: 0.4em;background-color: white;}#sk-container-id-1 div.sk-label label {font-family: monospace;font-weight: bold;display: inline-block;line-height: 1.2em;}#sk-container-id-1 div.sk-label-container {text-align: center;}#sk-container-id-1 div.sk-container {/* jupyter's `normalize.less` sets `[hidden] { display: none; }` but bootstrap.min.css set `[hidden] { display: none !important; }` so we also need the `!important` here to be able to override the default hidden behavior on the sphinx rendered scikit-learn.org. See: https://github.com/scikit-learn/scikit-learn/issues/21755 */display: inline-block !important;position: relative;}#sk-container-id-1 div.sk-text-repr-fallback {display: none;}</style><div id=\"sk-container-id-1\" class=\"sk-top-container\"><div class=\"sk-text-repr-fallback\"><pre>RandomForestClassifier(criterion=&#x27;entropy&#x27;, max_depth=4)</pre><b>In a Jupyter environment, please rerun this cell to show the HTML representation or trust the notebook. <br />On GitHub, the HTML representation is unable to render, please try loading this page with nbviewer.org.</b></div><div class=\"sk-container\" hidden><div class=\"sk-item\"><div class=\"sk-estimator sk-toggleable\"><input class=\"sk-toggleable__control sk-hidden--visually\" id=\"sk-estimator-id-1\" type=\"checkbox\" checked><label for=\"sk-estimator-id-1\" class=\"sk-toggleable__label sk-toggleable__label-arrow\">RandomForestClassifier</label><div class=\"sk-toggleable__content\"><pre>RandomForestClassifier(criterion=&#x27;entropy&#x27;, max_depth=4)</pre></div></div></div></div></div>"
            ]
          },
          "metadata": {},
          "execution_count": 37
        }
      ]
    },
    {
      "cell_type": "code",
      "source": [
        "y_predict=RF_class.predict(x_test)"
      ],
      "metadata": {
        "id": "Hh923sMYsVr9"
      },
      "execution_count": null,
      "outputs": []
    },
    {
      "cell_type": "code",
      "source": [
        "from sklearn.metrics import classification_report\n",
        "print('\\nClassification Report\\n')\n",
        "print(classification_report(y_test, y_predict, target_names=['Insufficient_Weight', 'Normal_Weight', 'Overweight_Level_I', 'Overweight_Level_II','Obesity_Type_I','Obesity_Type_II','Obesity_Type_III']))"
      ],
      "metadata": {
        "colab": {
          "base_uri": "https://localhost:8080/"
        },
        "id": "jMwi5dh3Ttiy",
        "outputId": "b7779e65-3a83-4015-ce48-537bbfa4e562"
      },
      "execution_count": null,
      "outputs": [
        {
          "output_type": "stream",
          "name": "stdout",
          "text": [
            "\n",
            "Classification Report\n",
            "\n",
            "                     precision    recall  f1-score   support\n",
            "\n",
            "Insufficient_Weight       0.83      0.96      0.89        56\n",
            "      Normal_Weight       0.71      0.65      0.68        62\n",
            " Overweight_Level_I       0.84      0.57      0.68        56\n",
            "Overweight_Level_II       0.63      0.64      0.63        50\n",
            "     Obesity_Type_I       0.79      0.71      0.74        78\n",
            "    Obesity_Type_II       0.72      1.00      0.84        58\n",
            "   Obesity_Type_III       1.00      1.00      1.00        63\n",
            "\n",
            "           accuracy                           0.79       423\n",
            "          macro avg       0.79      0.79      0.78       423\n",
            "       weighted avg       0.79      0.79      0.78       423\n",
            "\n"
          ]
        }
      ]
    },
    {
      "cell_type": "code",
      "source": [
        "from sklearn.model_selection import GridSearchCV\n",
        "\n",
        "parameters = {\n",
        "    'criterion':['gini', 'entropy', 'log_loss'],\n",
        "    'max_depth':[2,4,6,8],\n",
        "}"
      ],
      "metadata": {
        "id": "ursV3calXN57"
      },
      "execution_count": null,
      "outputs": []
    },
    {
      "cell_type": "code",
      "source": [
        "RF_class2 = RandomForestClassifier()\n",
        "RF_class2= GridSearchCV(RF_class2 ,\n",
        "                            param_grid = parameters,\n",
        "                            scoring='accuracy',\n",
        "                            cv=5)"
      ],
      "metadata": {
        "id": "ycGxBCmnXRW8"
      },
      "execution_count": null,
      "outputs": []
    },
    {
      "cell_type": "code",
      "source": [
        "RF_class2.fit(x_train,y_train)\n",
        "print(\"Tuned Hyperparameters :\", RF_class2.best_params_)\n",
        "print(\"Accuracy :\",RF_class2.best_score_)"
      ],
      "metadata": {
        "colab": {
          "base_uri": "https://localhost:8080/"
        },
        "id": "p--1MA6WXRyW",
        "outputId": "a3781b68-049d-4ef9-dbba-ef6e1c4be785"
      },
      "execution_count": null,
      "outputs": [
        {
          "output_type": "stream",
          "name": "stdout",
          "text": [
            "Tuned Hyperparameters : {'criterion': 'entropy', 'max_depth': 8}\n",
            "Accuracy : 0.9318683827015258\n"
          ]
        }
      ]
    },
    {
      "cell_type": "code",
      "source": [
        "RF_class_best = RandomForestClassifier(criterion= 'log_loss',max_depth=8)"
      ],
      "metadata": {
        "id": "y5S8RvzjXT-g"
      },
      "execution_count": null,
      "outputs": []
    },
    {
      "cell_type": "code",
      "source": [
        "RF_class_best.fit(x_train,y_train)"
      ],
      "metadata": {
        "colab": {
          "base_uri": "https://localhost:8080/",
          "height": 74
        },
        "id": "NK10ZpYpX3b1",
        "outputId": "ce16b447-608a-473f-d5b9-1cb31ad57309"
      },
      "execution_count": null,
      "outputs": [
        {
          "output_type": "execute_result",
          "data": {
            "text/plain": [
              "RandomForestClassifier(criterion='log_loss', max_depth=8)"
            ],
            "text/html": [
              "<style>#sk-container-id-5 {color: black;}#sk-container-id-5 pre{padding: 0;}#sk-container-id-5 div.sk-toggleable {background-color: white;}#sk-container-id-5 label.sk-toggleable__label {cursor: pointer;display: block;width: 100%;margin-bottom: 0;padding: 0.3em;box-sizing: border-box;text-align: center;}#sk-container-id-5 label.sk-toggleable__label-arrow:before {content: \"▸\";float: left;margin-right: 0.25em;color: #696969;}#sk-container-id-5 label.sk-toggleable__label-arrow:hover:before {color: black;}#sk-container-id-5 div.sk-estimator:hover label.sk-toggleable__label-arrow:before {color: black;}#sk-container-id-5 div.sk-toggleable__content {max-height: 0;max-width: 0;overflow: hidden;text-align: left;background-color: #f0f8ff;}#sk-container-id-5 div.sk-toggleable__content pre {margin: 0.2em;color: black;border-radius: 0.25em;background-color: #f0f8ff;}#sk-container-id-5 input.sk-toggleable__control:checked~div.sk-toggleable__content {max-height: 200px;max-width: 100%;overflow: auto;}#sk-container-id-5 input.sk-toggleable__control:checked~label.sk-toggleable__label-arrow:before {content: \"▾\";}#sk-container-id-5 div.sk-estimator input.sk-toggleable__control:checked~label.sk-toggleable__label {background-color: #d4ebff;}#sk-container-id-5 div.sk-label input.sk-toggleable__control:checked~label.sk-toggleable__label {background-color: #d4ebff;}#sk-container-id-5 input.sk-hidden--visually {border: 0;clip: rect(1px 1px 1px 1px);clip: rect(1px, 1px, 1px, 1px);height: 1px;margin: -1px;overflow: hidden;padding: 0;position: absolute;width: 1px;}#sk-container-id-5 div.sk-estimator {font-family: monospace;background-color: #f0f8ff;border: 1px dotted black;border-radius: 0.25em;box-sizing: border-box;margin-bottom: 0.5em;}#sk-container-id-5 div.sk-estimator:hover {background-color: #d4ebff;}#sk-container-id-5 div.sk-parallel-item::after {content: \"\";width: 100%;border-bottom: 1px solid gray;flex-grow: 1;}#sk-container-id-5 div.sk-label:hover label.sk-toggleable__label {background-color: #d4ebff;}#sk-container-id-5 div.sk-serial::before {content: \"\";position: absolute;border-left: 1px solid gray;box-sizing: border-box;top: 0;bottom: 0;left: 50%;z-index: 0;}#sk-container-id-5 div.sk-serial {display: flex;flex-direction: column;align-items: center;background-color: white;padding-right: 0.2em;padding-left: 0.2em;position: relative;}#sk-container-id-5 div.sk-item {position: relative;z-index: 1;}#sk-container-id-5 div.sk-parallel {display: flex;align-items: stretch;justify-content: center;background-color: white;position: relative;}#sk-container-id-5 div.sk-item::before, #sk-container-id-5 div.sk-parallel-item::before {content: \"\";position: absolute;border-left: 1px solid gray;box-sizing: border-box;top: 0;bottom: 0;left: 50%;z-index: -1;}#sk-container-id-5 div.sk-parallel-item {display: flex;flex-direction: column;z-index: 1;position: relative;background-color: white;}#sk-container-id-5 div.sk-parallel-item:first-child::after {align-self: flex-end;width: 50%;}#sk-container-id-5 div.sk-parallel-item:last-child::after {align-self: flex-start;width: 50%;}#sk-container-id-5 div.sk-parallel-item:only-child::after {width: 0;}#sk-container-id-5 div.sk-dashed-wrapped {border: 1px dashed gray;margin: 0 0.4em 0.5em 0.4em;box-sizing: border-box;padding-bottom: 0.4em;background-color: white;}#sk-container-id-5 div.sk-label label {font-family: monospace;font-weight: bold;display: inline-block;line-height: 1.2em;}#sk-container-id-5 div.sk-label-container {text-align: center;}#sk-container-id-5 div.sk-container {/* jupyter's `normalize.less` sets `[hidden] { display: none; }` but bootstrap.min.css set `[hidden] { display: none !important; }` so we also need the `!important` here to be able to override the default hidden behavior on the sphinx rendered scikit-learn.org. See: https://github.com/scikit-learn/scikit-learn/issues/21755 */display: inline-block !important;position: relative;}#sk-container-id-5 div.sk-text-repr-fallback {display: none;}</style><div id=\"sk-container-id-5\" class=\"sk-top-container\"><div class=\"sk-text-repr-fallback\"><pre>RandomForestClassifier(criterion=&#x27;log_loss&#x27;, max_depth=8)</pre><b>In a Jupyter environment, please rerun this cell to show the HTML representation or trust the notebook. <br />On GitHub, the HTML representation is unable to render, please try loading this page with nbviewer.org.</b></div><div class=\"sk-container\" hidden><div class=\"sk-item\"><div class=\"sk-estimator sk-toggleable\"><input class=\"sk-toggleable__control sk-hidden--visually\" id=\"sk-estimator-id-5\" type=\"checkbox\" checked><label for=\"sk-estimator-id-5\" class=\"sk-toggleable__label sk-toggleable__label-arrow\">RandomForestClassifier</label><div class=\"sk-toggleable__content\"><pre>RandomForestClassifier(criterion=&#x27;log_loss&#x27;, max_depth=8)</pre></div></div></div></div></div>"
            ]
          },
          "metadata": {},
          "execution_count": 59
        }
      ]
    },
    {
      "cell_type": "code",
      "source": [
        "y_predict_best=RF_class_best.predict(x_test)"
      ],
      "metadata": {
        "id": "RuljAOzvX5-B"
      },
      "execution_count": null,
      "outputs": []
    },
    {
      "cell_type": "code",
      "source": [
        "print('\\nClassification Report\\n')\n",
        "print(classification_report(y_test, y_predict_best, target_names=['Insufficient_Weight', 'Normal_Weight', 'Overweight_Level_I', 'Overweight_Level_II','Obesity_Type_I','Obesity_Type_II','Obesity_Type_III']))"
      ],
      "metadata": {
        "colab": {
          "base_uri": "https://localhost:8080/"
        },
        "id": "C2rXF7xDX7Dr",
        "outputId": "8ec226b5-6fd1-4643-94c5-f1018982c6db"
      },
      "execution_count": null,
      "outputs": [
        {
          "output_type": "stream",
          "name": "stdout",
          "text": [
            "\n",
            "Classification Report\n",
            "\n",
            "                     precision    recall  f1-score   support\n",
            "\n",
            "Insufficient_Weight       0.98      0.96      0.97        56\n",
            "      Normal_Weight       0.87      0.89      0.88        62\n",
            " Overweight_Level_I       0.85      0.80      0.83        56\n",
            "Overweight_Level_II       0.88      0.92      0.90        50\n",
            "     Obesity_Type_I       0.96      0.97      0.97        78\n",
            "    Obesity_Type_II       0.98      0.98      0.98        58\n",
            "   Obesity_Type_III       1.00      1.00      1.00        63\n",
            "\n",
            "           accuracy                           0.94       423\n",
            "          macro avg       0.93      0.93      0.93       423\n",
            "       weighted avg       0.94      0.94      0.94       423\n",
            "\n"
          ]
        }
      ]
    },
    {
      "cell_type": "code",
      "source": [
        "from xgboost import XGBClassifier\n",
        "import warnings\n",
        "warnings.filterwarnings('ignore')\n",
        "\n",
        "XGB_class = XGBClassifier(objective = 'multi:softprob', learning_rate = 0.01, max_depth = 4)\n",
        "XGB_class.fit(x_train, y_train)"
      ],
      "metadata": {
        "colab": {
          "base_uri": "https://localhost:8080/",
          "height": 248
        },
        "id": "f5Yhx9MwbQNm",
        "outputId": "4486c249-e793-48b0-c68f-235c6dbe37e4"
      },
      "execution_count": null,
      "outputs": [
        {
          "output_type": "execute_result",
          "data": {
            "text/plain": [
              "XGBClassifier(base_score=None, booster=None, callbacks=None,\n",
              "              colsample_bylevel=None, colsample_bynode=None,\n",
              "              colsample_bytree=None, device=None, early_stopping_rounds=None,\n",
              "              enable_categorical=False, eval_metric=None, feature_types=None,\n",
              "              gamma=None, grow_policy=None, importance_type=None,\n",
              "              interaction_constraints=None, learning_rate=0.01, max_bin=None,\n",
              "              max_cat_threshold=None, max_cat_to_onehot=None,\n",
              "              max_delta_step=None, max_depth=4, max_leaves=None,\n",
              "              min_child_weight=None, missing=nan, monotone_constraints=None,\n",
              "              multi_strategy=None, n_estimators=None, n_jobs=None,\n",
              "              num_parallel_tree=None, objective='multi:softprob', ...)"
            ],
            "text/html": [
              "<style>#sk-container-id-3 {color: black;}#sk-container-id-3 pre{padding: 0;}#sk-container-id-3 div.sk-toggleable {background-color: white;}#sk-container-id-3 label.sk-toggleable__label {cursor: pointer;display: block;width: 100%;margin-bottom: 0;padding: 0.3em;box-sizing: border-box;text-align: center;}#sk-container-id-3 label.sk-toggleable__label-arrow:before {content: \"▸\";float: left;margin-right: 0.25em;color: #696969;}#sk-container-id-3 label.sk-toggleable__label-arrow:hover:before {color: black;}#sk-container-id-3 div.sk-estimator:hover label.sk-toggleable__label-arrow:before {color: black;}#sk-container-id-3 div.sk-toggleable__content {max-height: 0;max-width: 0;overflow: hidden;text-align: left;background-color: #f0f8ff;}#sk-container-id-3 div.sk-toggleable__content pre {margin: 0.2em;color: black;border-radius: 0.25em;background-color: #f0f8ff;}#sk-container-id-3 input.sk-toggleable__control:checked~div.sk-toggleable__content {max-height: 200px;max-width: 100%;overflow: auto;}#sk-container-id-3 input.sk-toggleable__control:checked~label.sk-toggleable__label-arrow:before {content: \"▾\";}#sk-container-id-3 div.sk-estimator input.sk-toggleable__control:checked~label.sk-toggleable__label {background-color: #d4ebff;}#sk-container-id-3 div.sk-label input.sk-toggleable__control:checked~label.sk-toggleable__label {background-color: #d4ebff;}#sk-container-id-3 input.sk-hidden--visually {border: 0;clip: rect(1px 1px 1px 1px);clip: rect(1px, 1px, 1px, 1px);height: 1px;margin: -1px;overflow: hidden;padding: 0;position: absolute;width: 1px;}#sk-container-id-3 div.sk-estimator {font-family: monospace;background-color: #f0f8ff;border: 1px dotted black;border-radius: 0.25em;box-sizing: border-box;margin-bottom: 0.5em;}#sk-container-id-3 div.sk-estimator:hover {background-color: #d4ebff;}#sk-container-id-3 div.sk-parallel-item::after {content: \"\";width: 100%;border-bottom: 1px solid gray;flex-grow: 1;}#sk-container-id-3 div.sk-label:hover label.sk-toggleable__label {background-color: #d4ebff;}#sk-container-id-3 div.sk-serial::before {content: \"\";position: absolute;border-left: 1px solid gray;box-sizing: border-box;top: 0;bottom: 0;left: 50%;z-index: 0;}#sk-container-id-3 div.sk-serial {display: flex;flex-direction: column;align-items: center;background-color: white;padding-right: 0.2em;padding-left: 0.2em;position: relative;}#sk-container-id-3 div.sk-item {position: relative;z-index: 1;}#sk-container-id-3 div.sk-parallel {display: flex;align-items: stretch;justify-content: center;background-color: white;position: relative;}#sk-container-id-3 div.sk-item::before, #sk-container-id-3 div.sk-parallel-item::before {content: \"\";position: absolute;border-left: 1px solid gray;box-sizing: border-box;top: 0;bottom: 0;left: 50%;z-index: -1;}#sk-container-id-3 div.sk-parallel-item {display: flex;flex-direction: column;z-index: 1;position: relative;background-color: white;}#sk-container-id-3 div.sk-parallel-item:first-child::after {align-self: flex-end;width: 50%;}#sk-container-id-3 div.sk-parallel-item:last-child::after {align-self: flex-start;width: 50%;}#sk-container-id-3 div.sk-parallel-item:only-child::after {width: 0;}#sk-container-id-3 div.sk-dashed-wrapped {border: 1px dashed gray;margin: 0 0.4em 0.5em 0.4em;box-sizing: border-box;padding-bottom: 0.4em;background-color: white;}#sk-container-id-3 div.sk-label label {font-family: monospace;font-weight: bold;display: inline-block;line-height: 1.2em;}#sk-container-id-3 div.sk-label-container {text-align: center;}#sk-container-id-3 div.sk-container {/* jupyter's `normalize.less` sets `[hidden] { display: none; }` but bootstrap.min.css set `[hidden] { display: none !important; }` so we also need the `!important` here to be able to override the default hidden behavior on the sphinx rendered scikit-learn.org. See: https://github.com/scikit-learn/scikit-learn/issues/21755 */display: inline-block !important;position: relative;}#sk-container-id-3 div.sk-text-repr-fallback {display: none;}</style><div id=\"sk-container-id-3\" class=\"sk-top-container\"><div class=\"sk-text-repr-fallback\"><pre>XGBClassifier(base_score=None, booster=None, callbacks=None,\n",
              "              colsample_bylevel=None, colsample_bynode=None,\n",
              "              colsample_bytree=None, device=None, early_stopping_rounds=None,\n",
              "              enable_categorical=False, eval_metric=None, feature_types=None,\n",
              "              gamma=None, grow_policy=None, importance_type=None,\n",
              "              interaction_constraints=None, learning_rate=0.01, max_bin=None,\n",
              "              max_cat_threshold=None, max_cat_to_onehot=None,\n",
              "              max_delta_step=None, max_depth=4, max_leaves=None,\n",
              "              min_child_weight=None, missing=nan, monotone_constraints=None,\n",
              "              multi_strategy=None, n_estimators=None, n_jobs=None,\n",
              "              num_parallel_tree=None, objective=&#x27;multi:softprob&#x27;, ...)</pre><b>In a Jupyter environment, please rerun this cell to show the HTML representation or trust the notebook. <br />On GitHub, the HTML representation is unable to render, please try loading this page with nbviewer.org.</b></div><div class=\"sk-container\" hidden><div class=\"sk-item\"><div class=\"sk-estimator sk-toggleable\"><input class=\"sk-toggleable__control sk-hidden--visually\" id=\"sk-estimator-id-3\" type=\"checkbox\" checked><label for=\"sk-estimator-id-3\" class=\"sk-toggleable__label sk-toggleable__label-arrow\">XGBClassifier</label><div class=\"sk-toggleable__content\"><pre>XGBClassifier(base_score=None, booster=None, callbacks=None,\n",
              "              colsample_bylevel=None, colsample_bynode=None,\n",
              "              colsample_bytree=None, device=None, early_stopping_rounds=None,\n",
              "              enable_categorical=False, eval_metric=None, feature_types=None,\n",
              "              gamma=None, grow_policy=None, importance_type=None,\n",
              "              interaction_constraints=None, learning_rate=0.01, max_bin=None,\n",
              "              max_cat_threshold=None, max_cat_to_onehot=None,\n",
              "              max_delta_step=None, max_depth=4, max_leaves=None,\n",
              "              min_child_weight=None, missing=nan, monotone_constraints=None,\n",
              "              multi_strategy=None, n_estimators=None, n_jobs=None,\n",
              "              num_parallel_tree=None, objective=&#x27;multi:softprob&#x27;, ...)</pre></div></div></div></div></div>"
            ]
          },
          "metadata": {},
          "execution_count": 47
        }
      ]
    },
    {
      "cell_type": "code",
      "source": [
        "y_predict=XGB_class.predict(x_test)"
      ],
      "metadata": {
        "id": "gvfH2yCNeeOF"
      },
      "execution_count": null,
      "outputs": []
    },
    {
      "cell_type": "code",
      "source": [
        "print('\\nClassification Report\\n')\n",
        "print(classification_report(y_test, y_predict, target_names=['Insufficient_Weight', 'Normal_Weight', 'Overweight_Level_I', 'Overweight_Level_II', 'Obesity_Type_I', 'Obesity_Type_II', 'Obesity_Type_III']))"
      ],
      "metadata": {
        "colab": {
          "base_uri": "https://localhost:8080/"
        },
        "id": "V_ntyhw5efuC",
        "outputId": "97bcad12-ecde-461a-867c-e52a4a8dfedb"
      },
      "execution_count": null,
      "outputs": [
        {
          "output_type": "stream",
          "name": "stdout",
          "text": [
            "\n",
            "Classification Report\n",
            "\n",
            "                     precision    recall  f1-score   support\n",
            "\n",
            "Insufficient_Weight       0.90      0.96      0.93        56\n",
            "      Normal_Weight       0.82      0.76      0.79        62\n",
            " Overweight_Level_I       0.76      0.75      0.76        56\n",
            "Overweight_Level_II       0.80      0.78      0.79        50\n",
            "     Obesity_Type_I       0.90      0.90      0.90        78\n",
            "    Obesity_Type_II       0.95      1.00      0.97        58\n",
            "   Obesity_Type_III       1.00      1.00      1.00        63\n",
            "\n",
            "           accuracy                           0.88       423\n",
            "          macro avg       0.88      0.88      0.88       423\n",
            "       weighted avg       0.88      0.88      0.88       423\n",
            "\n"
          ]
        }
      ]
    },
    {
      "cell_type": "code",
      "source": [
        "parameters_xgboost = {\n",
        "    'objective': ['binary:logistic', 'multi:softmax', 'multi:softprob'],\n",
        "    'max_depth': [2, 4, 6, 8],\n",
        "    'learning_rate': [0.01, 0.1, 0.2]\n",
        "\n",
        "}"
      ],
      "metadata": {
        "id": "_XkHYXudehBg"
      },
      "execution_count": null,
      "outputs": []
    },
    {
      "cell_type": "code",
      "source": [
        "XGB_class2 = XGBClassifier()\n",
        "XGB_class2 = GridSearchCV(XGB_class2 ,\n",
        "                          scoring='accuracy',\n",
        "                          param_grid = parameters_xgboost,\n",
        "                          verbose=3,\n",
        "                          cv=5)"
      ],
      "metadata": {
        "id": "Abr6JYSbeubj"
      },
      "execution_count": null,
      "outputs": []
    },
    {
      "cell_type": "code",
      "source": [
        "XGB_class2.fit(x_train,y_train)\n",
        "print(\"Tuned Hyperparameters :\", XGB_class2.best_params_)\n",
        "print(\"Accuracy :\",XGB_class2.best_score_)"
      ],
      "metadata": {
        "colab": {
          "base_uri": "https://localhost:8080/"
        },
        "id": "YamjmoCseuVE",
        "outputId": "e0023b6a-6c5f-4862-c12b-8cec873ed377"
      },
      "execution_count": null,
      "outputs": [
        {
          "output_type": "stream",
          "name": "stdout",
          "text": [
            "Fitting 5 folds for each of 36 candidates, totalling 180 fits\n",
            "[CV 1/5] END learning_rate=0.01, max_depth=2, objective=binary:logistic;, score=0.657 total time=   0.2s\n",
            "[CV 2/5] END learning_rate=0.01, max_depth=2, objective=binary:logistic;, score=0.689 total time=   0.4s\n",
            "[CV 3/5] END learning_rate=0.01, max_depth=2, objective=binary:logistic;, score=0.672 total time=   1.0s\n",
            "[CV 4/5] END learning_rate=0.01, max_depth=2, objective=binary:logistic;, score=0.659 total time=   0.9s\n",
            "[CV 5/5] END learning_rate=0.01, max_depth=2, objective=binary:logistic;, score=0.700 total time=   1.3s\n",
            "[CV 1/5] END learning_rate=0.01, max_depth=2, objective=multi:softmax;, score=0.657 total time=   0.2s\n",
            "[CV 2/5] END learning_rate=0.01, max_depth=2, objective=multi:softmax;, score=0.689 total time=   0.2s\n",
            "[CV 3/5] END learning_rate=0.01, max_depth=2, objective=multi:softmax;, score=0.672 total time=   0.2s\n",
            "[CV 4/5] END learning_rate=0.01, max_depth=2, objective=multi:softmax;, score=0.659 total time=   0.2s\n",
            "[CV 5/5] END learning_rate=0.01, max_depth=2, objective=multi:softmax;, score=0.700 total time=   0.2s\n",
            "[CV 1/5] END learning_rate=0.01, max_depth=2, objective=multi:softprob;, score=0.657 total time=   0.2s\n",
            "[CV 2/5] END learning_rate=0.01, max_depth=2, objective=multi:softprob;, score=0.689 total time=   0.2s\n",
            "[CV 3/5] END learning_rate=0.01, max_depth=2, objective=multi:softprob;, score=0.672 total time=   0.2s\n",
            "[CV 4/5] END learning_rate=0.01, max_depth=2, objective=multi:softprob;, score=0.659 total time=   0.2s\n",
            "[CV 5/5] END learning_rate=0.01, max_depth=2, objective=multi:softprob;, score=0.700 total time=   0.2s\n",
            "[CV 1/5] END learning_rate=0.01, max_depth=4, objective=binary:logistic;, score=0.882 total time=   0.4s\n",
            "[CV 2/5] END learning_rate=0.01, max_depth=4, objective=binary:logistic;, score=0.873 total time=   0.4s\n",
            "[CV 3/5] END learning_rate=0.01, max_depth=4, objective=binary:logistic;, score=0.888 total time=   0.4s\n",
            "[CV 4/5] END learning_rate=0.01, max_depth=4, objective=binary:logistic;, score=0.875 total time=   0.4s\n",
            "[CV 5/5] END learning_rate=0.01, max_depth=4, objective=binary:logistic;, score=0.866 total time=   0.4s\n",
            "[CV 1/5] END learning_rate=0.01, max_depth=4, objective=multi:softmax;, score=0.882 total time=   0.4s\n",
            "[CV 2/5] END learning_rate=0.01, max_depth=4, objective=multi:softmax;, score=0.873 total time=   0.4s\n",
            "[CV 3/5] END learning_rate=0.01, max_depth=4, objective=multi:softmax;, score=0.888 total time=   0.4s\n",
            "[CV 4/5] END learning_rate=0.01, max_depth=4, objective=multi:softmax;, score=0.875 total time=   0.4s\n",
            "[CV 5/5] END learning_rate=0.01, max_depth=4, objective=multi:softmax;, score=0.866 total time=   0.4s\n",
            "[CV 1/5] END learning_rate=0.01, max_depth=4, objective=multi:softprob;, score=0.882 total time=   0.4s\n",
            "[CV 2/5] END learning_rate=0.01, max_depth=4, objective=multi:softprob;, score=0.873 total time=   0.4s\n",
            "[CV 3/5] END learning_rate=0.01, max_depth=4, objective=multi:softprob;, score=0.888 total time=   0.4s\n",
            "[CV 4/5] END learning_rate=0.01, max_depth=4, objective=multi:softprob;, score=0.875 total time=   0.4s\n",
            "[CV 5/5] END learning_rate=0.01, max_depth=4, objective=multi:softprob;, score=0.866 total time=   0.4s\n",
            "[CV 1/5] END learning_rate=0.01, max_depth=6, objective=binary:logistic;, score=0.920 total time=   0.6s\n",
            "[CV 2/5] END learning_rate=0.01, max_depth=6, objective=binary:logistic;, score=0.885 total time=   0.5s\n",
            "[CV 3/5] END learning_rate=0.01, max_depth=6, objective=binary:logistic;, score=0.938 total time=   0.6s\n",
            "[CV 4/5] END learning_rate=0.01, max_depth=6, objective=binary:logistic;, score=0.905 total time=   2.2s\n",
            "[CV 5/5] END learning_rate=0.01, max_depth=6, objective=binary:logistic;, score=0.923 total time=   1.5s\n",
            "[CV 1/5] END learning_rate=0.01, max_depth=6, objective=multi:softmax;, score=0.920 total time=   0.6s\n",
            "[CV 2/5] END learning_rate=0.01, max_depth=6, objective=multi:softmax;, score=0.885 total time=   0.6s\n",
            "[CV 3/5] END learning_rate=0.01, max_depth=6, objective=multi:softmax;, score=0.938 total time=   0.6s\n",
            "[CV 4/5] END learning_rate=0.01, max_depth=6, objective=multi:softmax;, score=0.905 total time=   0.6s\n",
            "[CV 5/5] END learning_rate=0.01, max_depth=6, objective=multi:softmax;, score=0.923 total time=   0.6s\n",
            "[CV 1/5] END learning_rate=0.01, max_depth=6, objective=multi:softprob;, score=0.920 total time=   0.6s\n",
            "[CV 2/5] END learning_rate=0.01, max_depth=6, objective=multi:softprob;, score=0.885 total time=   0.5s\n",
            "[CV 3/5] END learning_rate=0.01, max_depth=6, objective=multi:softprob;, score=0.938 total time=   0.6s\n",
            "[CV 4/5] END learning_rate=0.01, max_depth=6, objective=multi:softprob;, score=0.905 total time=   0.6s\n",
            "[CV 5/5] END learning_rate=0.01, max_depth=6, objective=multi:softprob;, score=0.923 total time=   0.6s\n",
            "[CV 1/5] END learning_rate=0.01, max_depth=8, objective=binary:logistic;, score=0.926 total time=   0.8s\n",
            "[CV 2/5] END learning_rate=0.01, max_depth=8, objective=binary:logistic;, score=0.923 total time=   0.7s\n",
            "[CV 3/5] END learning_rate=0.01, max_depth=8, objective=binary:logistic;, score=0.950 total time=   0.7s\n",
            "[CV 4/5] END learning_rate=0.01, max_depth=8, objective=binary:logistic;, score=0.926 total time=   0.7s\n",
            "[CV 5/5] END learning_rate=0.01, max_depth=8, objective=binary:logistic;, score=0.929 total time=   0.7s\n",
            "[CV 1/5] END learning_rate=0.01, max_depth=8, objective=multi:softmax;, score=0.926 total time=   2.1s\n",
            "[CV 2/5] END learning_rate=0.01, max_depth=8, objective=multi:softmax;, score=0.923 total time=   1.7s\n",
            "[CV 3/5] END learning_rate=0.01, max_depth=8, objective=multi:softmax;, score=0.950 total time=   0.7s\n",
            "[CV 4/5] END learning_rate=0.01, max_depth=8, objective=multi:softmax;, score=0.926 total time=   0.7s\n",
            "[CV 5/5] END learning_rate=0.01, max_depth=8, objective=multi:softmax;, score=0.929 total time=   0.7s\n",
            "[CV 1/5] END learning_rate=0.01, max_depth=8, objective=multi:softprob;, score=0.926 total time=   0.7s\n",
            "[CV 2/5] END learning_rate=0.01, max_depth=8, objective=multi:softprob;, score=0.923 total time=   0.7s\n",
            "[CV 3/5] END learning_rate=0.01, max_depth=8, objective=multi:softprob;, score=0.950 total time=   0.7s\n",
            "[CV 4/5] END learning_rate=0.01, max_depth=8, objective=multi:softprob;, score=0.926 total time=   0.7s\n",
            "[CV 5/5] END learning_rate=0.01, max_depth=8, objective=multi:softprob;, score=0.929 total time=   0.7s\n",
            "[CV 1/5] END learning_rate=0.1, max_depth=2, objective=binary:logistic;, score=0.929 total time=   0.2s\n",
            "[CV 2/5] END learning_rate=0.1, max_depth=2, objective=binary:logistic;, score=0.902 total time=   0.2s\n",
            "[CV 3/5] END learning_rate=0.1, max_depth=2, objective=binary:logistic;, score=0.914 total time=   0.2s\n",
            "[CV 4/5] END learning_rate=0.1, max_depth=2, objective=binary:logistic;, score=0.908 total time=   0.3s\n",
            "[CV 5/5] END learning_rate=0.1, max_depth=2, objective=binary:logistic;, score=0.929 total time=   0.2s\n",
            "[CV 1/5] END learning_rate=0.1, max_depth=2, objective=multi:softmax;, score=0.929 total time=   0.2s\n",
            "[CV 2/5] END learning_rate=0.1, max_depth=2, objective=multi:softmax;, score=0.902 total time=   0.2s\n",
            "[CV 3/5] END learning_rate=0.1, max_depth=2, objective=multi:softmax;, score=0.914 total time=   0.2s\n",
            "[CV 4/5] END learning_rate=0.1, max_depth=2, objective=multi:softmax;, score=0.908 total time=   0.2s\n",
            "[CV 5/5] END learning_rate=0.1, max_depth=2, objective=multi:softmax;, score=0.929 total time=   0.2s\n",
            "[CV 1/5] END learning_rate=0.1, max_depth=2, objective=multi:softprob;, score=0.929 total time=   0.2s\n",
            "[CV 2/5] END learning_rate=0.1, max_depth=2, objective=multi:softprob;, score=0.902 total time=   0.2s\n",
            "[CV 3/5] END learning_rate=0.1, max_depth=2, objective=multi:softprob;, score=0.914 total time=   0.3s\n",
            "[CV 4/5] END learning_rate=0.1, max_depth=2, objective=multi:softprob;, score=0.908 total time=   0.2s\n",
            "[CV 5/5] END learning_rate=0.1, max_depth=2, objective=multi:softprob;, score=0.929 total time=   0.2s\n",
            "[CV 1/5] END learning_rate=0.1, max_depth=4, objective=binary:logistic;, score=0.959 total time=   0.3s\n",
            "[CV 2/5] END learning_rate=0.1, max_depth=4, objective=binary:logistic;, score=0.950 total time=   0.5s\n",
            "[CV 3/5] END learning_rate=0.1, max_depth=4, objective=binary:logistic;, score=0.967 total time=   1.9s\n",
            "[CV 4/5] END learning_rate=0.1, max_depth=4, objective=binary:logistic;, score=0.958 total time=   1.2s\n",
            "[CV 5/5] END learning_rate=0.1, max_depth=4, objective=binary:logistic;, score=0.964 total time=   0.3s\n",
            "[CV 1/5] END learning_rate=0.1, max_depth=4, objective=multi:softmax;, score=0.959 total time=   0.4s\n",
            "[CV 2/5] END learning_rate=0.1, max_depth=4, objective=multi:softmax;, score=0.950 total time=   0.3s\n",
            "[CV 3/5] END learning_rate=0.1, max_depth=4, objective=multi:softmax;, score=0.967 total time=   0.3s\n",
            "[CV 4/5] END learning_rate=0.1, max_depth=4, objective=multi:softmax;, score=0.958 total time=   0.4s\n",
            "[CV 5/5] END learning_rate=0.1, max_depth=4, objective=multi:softmax;, score=0.964 total time=   0.4s\n",
            "[CV 1/5] END learning_rate=0.1, max_depth=4, objective=multi:softprob;, score=0.959 total time=   0.3s\n",
            "[CV 2/5] END learning_rate=0.1, max_depth=4, objective=multi:softprob;, score=0.950 total time=   0.3s\n",
            "[CV 3/5] END learning_rate=0.1, max_depth=4, objective=multi:softprob;, score=0.967 total time=   0.4s\n",
            "[CV 4/5] END learning_rate=0.1, max_depth=4, objective=multi:softprob;, score=0.958 total time=   0.4s\n",
            "[CV 5/5] END learning_rate=0.1, max_depth=4, objective=multi:softprob;, score=0.964 total time=   0.4s\n",
            "[CV 1/5] END learning_rate=0.1, max_depth=6, objective=binary:logistic;, score=0.956 total time=   0.4s\n",
            "[CV 2/5] END learning_rate=0.1, max_depth=6, objective=binary:logistic;, score=0.944 total time=   0.4s\n",
            "[CV 3/5] END learning_rate=0.1, max_depth=6, objective=binary:logistic;, score=0.964 total time=   0.5s\n",
            "[CV 4/5] END learning_rate=0.1, max_depth=6, objective=binary:logistic;, score=0.961 total time=   0.4s\n",
            "[CV 5/5] END learning_rate=0.1, max_depth=6, objective=binary:logistic;, score=0.973 total time=   0.5s\n",
            "[CV 1/5] END learning_rate=0.1, max_depth=6, objective=multi:softmax;, score=0.956 total time=   0.4s\n",
            "[CV 2/5] END learning_rate=0.1, max_depth=6, objective=multi:softmax;, score=0.944 total time=   0.5s\n",
            "[CV 3/5] END learning_rate=0.1, max_depth=6, objective=multi:softmax;, score=0.964 total time=   0.5s\n",
            "[CV 4/5] END learning_rate=0.1, max_depth=6, objective=multi:softmax;, score=0.961 total time=   0.4s\n",
            "[CV 5/5] END learning_rate=0.1, max_depth=6, objective=multi:softmax;, score=0.973 total time=   0.5s\n",
            "[CV 1/5] END learning_rate=0.1, max_depth=6, objective=multi:softprob;, score=0.956 total time=   0.5s\n",
            "[CV 2/5] END learning_rate=0.1, max_depth=6, objective=multi:softprob;, score=0.944 total time=   0.4s\n",
            "[CV 3/5] END learning_rate=0.1, max_depth=6, objective=multi:softprob;, score=0.964 total time=   0.5s\n",
            "[CV 4/5] END learning_rate=0.1, max_depth=6, objective=multi:softprob;, score=0.961 total time=   1.3s\n",
            "[CV 5/5] END learning_rate=0.1, max_depth=6, objective=multi:softprob;, score=0.973 total time=   2.2s\n",
            "[CV 1/5] END learning_rate=0.1, max_depth=8, objective=binary:logistic;, score=0.953 total time=   0.5s\n",
            "[CV 2/5] END learning_rate=0.1, max_depth=8, objective=binary:logistic;, score=0.938 total time=   0.5s\n",
            "[CV 3/5] END learning_rate=0.1, max_depth=8, objective=binary:logistic;, score=0.967 total time=   0.5s\n",
            "[CV 4/5] END learning_rate=0.1, max_depth=8, objective=binary:logistic;, score=0.964 total time=   0.5s\n",
            "[CV 5/5] END learning_rate=0.1, max_depth=8, objective=binary:logistic;, score=0.967 total time=   0.5s\n",
            "[CV 1/5] END learning_rate=0.1, max_depth=8, objective=multi:softmax;, score=0.953 total time=   0.5s\n",
            "[CV 2/5] END learning_rate=0.1, max_depth=8, objective=multi:softmax;, score=0.938 total time=   0.5s\n",
            "[CV 3/5] END learning_rate=0.1, max_depth=8, objective=multi:softmax;, score=0.967 total time=   0.5s\n",
            "[CV 4/5] END learning_rate=0.1, max_depth=8, objective=multi:softmax;, score=0.964 total time=   0.5s\n",
            "[CV 5/5] END learning_rate=0.1, max_depth=8, objective=multi:softmax;, score=0.967 total time=   0.5s\n",
            "[CV 1/5] END learning_rate=0.1, max_depth=8, objective=multi:softprob;, score=0.953 total time=   0.5s\n",
            "[CV 2/5] END learning_rate=0.1, max_depth=8, objective=multi:softprob;, score=0.938 total time=   0.5s\n",
            "[CV 3/5] END learning_rate=0.1, max_depth=8, objective=multi:softprob;, score=0.967 total time=   0.5s\n",
            "[CV 4/5] END learning_rate=0.1, max_depth=8, objective=multi:softprob;, score=0.964 total time=   0.5s\n",
            "[CV 5/5] END learning_rate=0.1, max_depth=8, objective=multi:softprob;, score=0.967 total time=   0.5s\n",
            "[CV 1/5] END learning_rate=0.2, max_depth=2, objective=binary:logistic;, score=0.950 total time=   0.2s\n",
            "[CV 2/5] END learning_rate=0.2, max_depth=2, objective=binary:logistic;, score=0.935 total time=   0.2s\n",
            "[CV 3/5] END learning_rate=0.2, max_depth=2, objective=binary:logistic;, score=0.947 total time=   0.2s\n",
            "[CV 4/5] END learning_rate=0.2, max_depth=2, objective=binary:logistic;, score=0.947 total time=   0.2s\n",
            "[CV 5/5] END learning_rate=0.2, max_depth=2, objective=binary:logistic;, score=0.950 total time=   0.2s\n",
            "[CV 1/5] END learning_rate=0.2, max_depth=2, objective=multi:softmax;, score=0.950 total time=   0.2s\n",
            "[CV 2/5] END learning_rate=0.2, max_depth=2, objective=multi:softmax;, score=0.935 total time=   0.2s\n",
            "[CV 3/5] END learning_rate=0.2, max_depth=2, objective=multi:softmax;, score=0.947 total time=   0.2s\n",
            "[CV 4/5] END learning_rate=0.2, max_depth=2, objective=multi:softmax;, score=0.947 total time=   0.2s\n",
            "[CV 5/5] END learning_rate=0.2, max_depth=2, objective=multi:softmax;, score=0.950 total time=   0.2s\n",
            "[CV 1/5] END learning_rate=0.2, max_depth=2, objective=multi:softprob;, score=0.950 total time=   0.5s\n",
            "[CV 2/5] END learning_rate=0.2, max_depth=2, objective=multi:softprob;, score=0.935 total time=   0.9s\n",
            "[CV 3/5] END learning_rate=0.2, max_depth=2, objective=multi:softprob;, score=0.947 total time=   0.8s\n",
            "[CV 4/5] END learning_rate=0.2, max_depth=2, objective=multi:softprob;, score=0.947 total time=   0.5s\n",
            "[CV 5/5] END learning_rate=0.2, max_depth=2, objective=multi:softprob;, score=0.950 total time=   0.8s\n",
            "[CV 1/5] END learning_rate=0.2, max_depth=4, objective=binary:logistic;, score=0.959 total time=   0.3s\n",
            "[CV 2/5] END learning_rate=0.2, max_depth=4, objective=binary:logistic;, score=0.956 total time=   0.3s\n",
            "[CV 3/5] END learning_rate=0.2, max_depth=4, objective=binary:logistic;, score=0.973 total time=   0.3s\n",
            "[CV 4/5] END learning_rate=0.2, max_depth=4, objective=binary:logistic;, score=0.955 total time=   0.3s\n",
            "[CV 5/5] END learning_rate=0.2, max_depth=4, objective=binary:logistic;, score=0.967 total time=   0.3s\n",
            "[CV 1/5] END learning_rate=0.2, max_depth=4, objective=multi:softmax;, score=0.959 total time=   0.3s\n",
            "[CV 2/5] END learning_rate=0.2, max_depth=4, objective=multi:softmax;, score=0.956 total time=   0.3s\n",
            "[CV 3/5] END learning_rate=0.2, max_depth=4, objective=multi:softmax;, score=0.973 total time=   0.3s\n",
            "[CV 4/5] END learning_rate=0.2, max_depth=4, objective=multi:softmax;, score=0.955 total time=   0.3s\n",
            "[CV 5/5] END learning_rate=0.2, max_depth=4, objective=multi:softmax;, score=0.967 total time=   0.3s\n",
            "[CV 1/5] END learning_rate=0.2, max_depth=4, objective=multi:softprob;, score=0.959 total time=   0.3s\n",
            "[CV 2/5] END learning_rate=0.2, max_depth=4, objective=multi:softprob;, score=0.956 total time=   0.3s\n",
            "[CV 3/5] END learning_rate=0.2, max_depth=4, objective=multi:softprob;, score=0.973 total time=   0.8s\n",
            "[CV 4/5] END learning_rate=0.2, max_depth=4, objective=multi:softprob;, score=0.955 total time=   0.8s\n",
            "[CV 5/5] END learning_rate=0.2, max_depth=4, objective=multi:softprob;, score=0.967 total time=   0.3s\n",
            "[CV 1/5] END learning_rate=0.2, max_depth=6, objective=binary:logistic;, score=0.962 total time=   0.8s\n",
            "[CV 2/5] END learning_rate=0.2, max_depth=6, objective=binary:logistic;, score=0.947 total time=   0.4s\n",
            "[CV 3/5] END learning_rate=0.2, max_depth=6, objective=binary:logistic;, score=0.967 total time=   0.4s\n",
            "[CV 4/5] END learning_rate=0.2, max_depth=6, objective=binary:logistic;, score=0.964 total time=   0.4s\n",
            "[CV 5/5] END learning_rate=0.2, max_depth=6, objective=binary:logistic;, score=0.976 total time=   0.4s\n",
            "[CV 1/5] END learning_rate=0.2, max_depth=6, objective=multi:softmax;, score=0.962 total time=   0.4s\n",
            "[CV 2/5] END learning_rate=0.2, max_depth=6, objective=multi:softmax;, score=0.947 total time=   0.4s\n",
            "[CV 3/5] END learning_rate=0.2, max_depth=6, objective=multi:softmax;, score=0.967 total time=   0.4s\n",
            "[CV 4/5] END learning_rate=0.2, max_depth=6, objective=multi:softmax;, score=0.964 total time=   0.4s\n",
            "[CV 5/5] END learning_rate=0.2, max_depth=6, objective=multi:softmax;, score=0.976 total time=   0.4s\n",
            "[CV 1/5] END learning_rate=0.2, max_depth=6, objective=multi:softprob;, score=0.962 total time=   0.8s\n",
            "[CV 2/5] END learning_rate=0.2, max_depth=6, objective=multi:softprob;, score=0.947 total time=   1.6s\n",
            "[CV 3/5] END learning_rate=0.2, max_depth=6, objective=multi:softprob;, score=0.967 total time=   1.3s\n",
            "[CV 4/5] END learning_rate=0.2, max_depth=6, objective=multi:softprob;, score=0.964 total time=   0.4s\n",
            "[CV 5/5] END learning_rate=0.2, max_depth=6, objective=multi:softprob;, score=0.976 total time=   0.4s\n",
            "[CV 1/5] END learning_rate=0.2, max_depth=8, objective=binary:logistic;, score=0.956 total time=   0.4s\n",
            "[CV 2/5] END learning_rate=0.2, max_depth=8, objective=binary:logistic;, score=0.944 total time=   0.4s\n",
            "[CV 3/5] END learning_rate=0.2, max_depth=8, objective=binary:logistic;, score=0.962 total time=   0.4s\n",
            "[CV 4/5] END learning_rate=0.2, max_depth=8, objective=binary:logistic;, score=0.967 total time=   0.4s\n",
            "[CV 5/5] END learning_rate=0.2, max_depth=8, objective=binary:logistic;, score=0.967 total time=   0.4s\n",
            "[CV 1/5] END learning_rate=0.2, max_depth=8, objective=multi:softmax;, score=0.956 total time=   0.4s\n",
            "[CV 2/5] END learning_rate=0.2, max_depth=8, objective=multi:softmax;, score=0.944 total time=   0.4s\n",
            "[CV 3/5] END learning_rate=0.2, max_depth=8, objective=multi:softmax;, score=0.962 total time=   0.4s\n",
            "[CV 4/5] END learning_rate=0.2, max_depth=8, objective=multi:softmax;, score=0.967 total time=   0.4s\n",
            "[CV 5/5] END learning_rate=0.2, max_depth=8, objective=multi:softmax;, score=0.967 total time=   0.4s\n",
            "[CV 1/5] END learning_rate=0.2, max_depth=8, objective=multi:softprob;, score=0.956 total time=   0.4s\n",
            "[CV 2/5] END learning_rate=0.2, max_depth=8, objective=multi:softprob;, score=0.944 total time=   0.4s\n",
            "[CV 3/5] END learning_rate=0.2, max_depth=8, objective=multi:softprob;, score=0.962 total time=   0.4s\n",
            "[CV 4/5] END learning_rate=0.2, max_depth=8, objective=multi:softprob;, score=0.967 total time=   0.4s\n",
            "[CV 5/5] END learning_rate=0.2, max_depth=8, objective=multi:softprob;, score=0.967 total time=   0.4s\n",
            "Tuned Hyperparameters : {'learning_rate': 0.2, 'max_depth': 6, 'objective': 'binary:logistic'}\n",
            "Accuracy : 0.9632784927923025\n"
          ]
        }
      ]
    },
    {
      "cell_type": "code",
      "source": [
        "XGB_class_best = XGBClassifier(objective = 'binary:logistic', learning_rate = 0.2, max_depth = 6)"
      ],
      "metadata": {
        "id": "h5E7paugewLq"
      },
      "execution_count": null,
      "outputs": []
    },
    {
      "cell_type": "code",
      "source": [
        "XGB_class_best.fit(x_train,y_train)"
      ],
      "metadata": {
        "colab": {
          "base_uri": "https://localhost:8080/",
          "height": 248
        },
        "id": "PzqZhPKwfIGo",
        "outputId": "57df4177-3f2d-43b1-b11a-eb816fe4b8ea"
      },
      "execution_count": null,
      "outputs": [
        {
          "output_type": "execute_result",
          "data": {
            "text/plain": [
              "XGBClassifier(base_score=None, booster=None, callbacks=None,\n",
              "              colsample_bylevel=None, colsample_bynode=None,\n",
              "              colsample_bytree=None, device=None, early_stopping_rounds=None,\n",
              "              enable_categorical=False, eval_metric=None, feature_types=None,\n",
              "              gamma=None, grow_policy=None, importance_type=None,\n",
              "              interaction_constraints=None, learning_rate=0.2, max_bin=None,\n",
              "              max_cat_threshold=None, max_cat_to_onehot=None,\n",
              "              max_delta_step=None, max_depth=6, max_leaves=None,\n",
              "              min_child_weight=None, missing=nan, monotone_constraints=None,\n",
              "              multi_strategy=None, n_estimators=None, n_jobs=None,\n",
              "              num_parallel_tree=None, objective='multi:softprob', ...)"
            ],
            "text/html": [
              "<style>#sk-container-id-4 {color: black;}#sk-container-id-4 pre{padding: 0;}#sk-container-id-4 div.sk-toggleable {background-color: white;}#sk-container-id-4 label.sk-toggleable__label {cursor: pointer;display: block;width: 100%;margin-bottom: 0;padding: 0.3em;box-sizing: border-box;text-align: center;}#sk-container-id-4 label.sk-toggleable__label-arrow:before {content: \"▸\";float: left;margin-right: 0.25em;color: #696969;}#sk-container-id-4 label.sk-toggleable__label-arrow:hover:before {color: black;}#sk-container-id-4 div.sk-estimator:hover label.sk-toggleable__label-arrow:before {color: black;}#sk-container-id-4 div.sk-toggleable__content {max-height: 0;max-width: 0;overflow: hidden;text-align: left;background-color: #f0f8ff;}#sk-container-id-4 div.sk-toggleable__content pre {margin: 0.2em;color: black;border-radius: 0.25em;background-color: #f0f8ff;}#sk-container-id-4 input.sk-toggleable__control:checked~div.sk-toggleable__content {max-height: 200px;max-width: 100%;overflow: auto;}#sk-container-id-4 input.sk-toggleable__control:checked~label.sk-toggleable__label-arrow:before {content: \"▾\";}#sk-container-id-4 div.sk-estimator input.sk-toggleable__control:checked~label.sk-toggleable__label {background-color: #d4ebff;}#sk-container-id-4 div.sk-label input.sk-toggleable__control:checked~label.sk-toggleable__label {background-color: #d4ebff;}#sk-container-id-4 input.sk-hidden--visually {border: 0;clip: rect(1px 1px 1px 1px);clip: rect(1px, 1px, 1px, 1px);height: 1px;margin: -1px;overflow: hidden;padding: 0;position: absolute;width: 1px;}#sk-container-id-4 div.sk-estimator {font-family: monospace;background-color: #f0f8ff;border: 1px dotted black;border-radius: 0.25em;box-sizing: border-box;margin-bottom: 0.5em;}#sk-container-id-4 div.sk-estimator:hover {background-color: #d4ebff;}#sk-container-id-4 div.sk-parallel-item::after {content: \"\";width: 100%;border-bottom: 1px solid gray;flex-grow: 1;}#sk-container-id-4 div.sk-label:hover label.sk-toggleable__label {background-color: #d4ebff;}#sk-container-id-4 div.sk-serial::before {content: \"\";position: absolute;border-left: 1px solid gray;box-sizing: border-box;top: 0;bottom: 0;left: 50%;z-index: 0;}#sk-container-id-4 div.sk-serial {display: flex;flex-direction: column;align-items: center;background-color: white;padding-right: 0.2em;padding-left: 0.2em;position: relative;}#sk-container-id-4 div.sk-item {position: relative;z-index: 1;}#sk-container-id-4 div.sk-parallel {display: flex;align-items: stretch;justify-content: center;background-color: white;position: relative;}#sk-container-id-4 div.sk-item::before, #sk-container-id-4 div.sk-parallel-item::before {content: \"\";position: absolute;border-left: 1px solid gray;box-sizing: border-box;top: 0;bottom: 0;left: 50%;z-index: -1;}#sk-container-id-4 div.sk-parallel-item {display: flex;flex-direction: column;z-index: 1;position: relative;background-color: white;}#sk-container-id-4 div.sk-parallel-item:first-child::after {align-self: flex-end;width: 50%;}#sk-container-id-4 div.sk-parallel-item:last-child::after {align-self: flex-start;width: 50%;}#sk-container-id-4 div.sk-parallel-item:only-child::after {width: 0;}#sk-container-id-4 div.sk-dashed-wrapped {border: 1px dashed gray;margin: 0 0.4em 0.5em 0.4em;box-sizing: border-box;padding-bottom: 0.4em;background-color: white;}#sk-container-id-4 div.sk-label label {font-family: monospace;font-weight: bold;display: inline-block;line-height: 1.2em;}#sk-container-id-4 div.sk-label-container {text-align: center;}#sk-container-id-4 div.sk-container {/* jupyter's `normalize.less` sets `[hidden] { display: none; }` but bootstrap.min.css set `[hidden] { display: none !important; }` so we also need the `!important` here to be able to override the default hidden behavior on the sphinx rendered scikit-learn.org. See: https://github.com/scikit-learn/scikit-learn/issues/21755 */display: inline-block !important;position: relative;}#sk-container-id-4 div.sk-text-repr-fallback {display: none;}</style><div id=\"sk-container-id-4\" class=\"sk-top-container\"><div class=\"sk-text-repr-fallback\"><pre>XGBClassifier(base_score=None, booster=None, callbacks=None,\n",
              "              colsample_bylevel=None, colsample_bynode=None,\n",
              "              colsample_bytree=None, device=None, early_stopping_rounds=None,\n",
              "              enable_categorical=False, eval_metric=None, feature_types=None,\n",
              "              gamma=None, grow_policy=None, importance_type=None,\n",
              "              interaction_constraints=None, learning_rate=0.2, max_bin=None,\n",
              "              max_cat_threshold=None, max_cat_to_onehot=None,\n",
              "              max_delta_step=None, max_depth=6, max_leaves=None,\n",
              "              min_child_weight=None, missing=nan, monotone_constraints=None,\n",
              "              multi_strategy=None, n_estimators=None, n_jobs=None,\n",
              "              num_parallel_tree=None, objective=&#x27;multi:softprob&#x27;, ...)</pre><b>In a Jupyter environment, please rerun this cell to show the HTML representation or trust the notebook. <br />On GitHub, the HTML representation is unable to render, please try loading this page with nbviewer.org.</b></div><div class=\"sk-container\" hidden><div class=\"sk-item\"><div class=\"sk-estimator sk-toggleable\"><input class=\"sk-toggleable__control sk-hidden--visually\" id=\"sk-estimator-id-4\" type=\"checkbox\" checked><label for=\"sk-estimator-id-4\" class=\"sk-toggleable__label sk-toggleable__label-arrow\">XGBClassifier</label><div class=\"sk-toggleable__content\"><pre>XGBClassifier(base_score=None, booster=None, callbacks=None,\n",
              "              colsample_bylevel=None, colsample_bynode=None,\n",
              "              colsample_bytree=None, device=None, early_stopping_rounds=None,\n",
              "              enable_categorical=False, eval_metric=None, feature_types=None,\n",
              "              gamma=None, grow_policy=None, importance_type=None,\n",
              "              interaction_constraints=None, learning_rate=0.2, max_bin=None,\n",
              "              max_cat_threshold=None, max_cat_to_onehot=None,\n",
              "              max_delta_step=None, max_depth=6, max_leaves=None,\n",
              "              min_child_weight=None, missing=nan, monotone_constraints=None,\n",
              "              multi_strategy=None, n_estimators=None, n_jobs=None,\n",
              "              num_parallel_tree=None, objective=&#x27;multi:softprob&#x27;, ...)</pre></div></div></div></div></div>"
            ]
          },
          "metadata": {},
          "execution_count": 54
        }
      ]
    },
    {
      "cell_type": "code",
      "source": [
        "y_predict_tuned = XGB_class_best.predict(x_test)"
      ],
      "metadata": {
        "id": "nhbF6R4BfJM1"
      },
      "execution_count": null,
      "outputs": []
    },
    {
      "cell_type": "code",
      "source": [
        "print('\\nClassification Report\\n')\n",
        "print(classification_report(y_test, y_predict_tuned, target_names=['Insufficient_Weight', 'Normal_Weight', 'Overweight_Level_I', 'Overweight_Level_II', 'Obesity_Type_I', 'Obesity_Type_II', 'Obesity_Type_III']))"
      ],
      "metadata": {
        "colab": {
          "base_uri": "https://localhost:8080/"
        },
        "id": "x4leV08YfSk2",
        "outputId": "2eb45f19-8428-4759-ed40-ab451c16fbba"
      },
      "execution_count": null,
      "outputs": [
        {
          "output_type": "stream",
          "name": "stdout",
          "text": [
            "\n",
            "Classification Report\n",
            "\n",
            "                     precision    recall  f1-score   support\n",
            "\n",
            "Insufficient_Weight       0.93      1.00      0.97        56\n",
            "      Normal_Weight       0.96      0.85      0.91        62\n",
            " Overweight_Level_I       0.88      0.95      0.91        56\n",
            "Overweight_Level_II       0.98      0.98      0.98        50\n",
            "     Obesity_Type_I       1.00      0.97      0.99        78\n",
            "    Obesity_Type_II       0.98      1.00      0.99        58\n",
            "   Obesity_Type_III       1.00      1.00      1.00        63\n",
            "\n",
            "           accuracy                           0.96       423\n",
            "          macro avg       0.96      0.97      0.96       423\n",
            "       weighted avg       0.97      0.96      0.96       423\n",
            "\n"
          ]
        }
      ]
    },
    {
      "cell_type": "code",
      "source": [
        "feature_importances = RF_class_best.feature_importances_\n",
        "\n",
        "features_df = pd.DataFrame({'Features': x_train.columns, 'Importance': feature_importances})\n",
        "features_df = features_df.sort_values(by='Importance', ascending=False)\n",
        "\n",
        "plt.figure(figsize=(12, 8))\n",
        "sns.barplot(y='Importance',\n",
        "            x='Features',\n",
        "            data=features_df,\n",
        "            palette='viridis',\n",
        "            edgecolor='black'\n",
        ")\n",
        "plt.xticks(rotation=45, ha='right', fontsize=10)\n",
        "plt.yticks(fontsize=10)\n",
        "plt.grid(axis='y', linestyle='--', alpha=0.5)\n",
        "plt.tight_layout()\n",
        "plt.show()"
      ],
      "metadata": {
        "colab": {
          "base_uri": "https://localhost:8080/",
          "height": 445
        },
        "id": "yOdFq7MVfWHM",
        "outputId": "e899aa69-2e6a-4e72-d10f-878b7731cee2"
      },
      "execution_count": null,
      "outputs": [
        {
          "output_type": "display_data",
          "data": {
            "text/plain": [
              "<Figure size 1200x800 with 1 Axes>"
            ],
            "image/png": "[encoded data removed]"
          },
          "metadata": {}
        }
      ]
    },
    {
      "cell_type": "code",
      "source": [
        "feature_importances = XGB_class_best.feature_importances_\n",
        "\n",
        "features_df = pd.DataFrame(feature_importances, index=x_train.columns, columns=[\"Importance\"])\n",
        "features_df = features_df.sort_values(by='Importance', ascending=False)\n",
        "\n",
        "plt.figure(figsize=(12, 8))\n",
        "sns.barplot(y='Importance',\n",
        "            x=features_df.index,\n",
        "            data=features_df,\n",
        "            palette='viridis',\n",
        "            edgecolor='black'\n",
        ")\n",
        "plt.xlabel('Features')\n",
        "plt.xticks(rotation=45, ha='right', fontsize=10)\n",
        "plt.yticks(fontsize=10)\n",
        "plt.grid(axis='y', linestyle='--', alpha=0.5)\n",
        "plt.tight_layout()\n",
        "plt.show()"
      ],
      "metadata": {
        "colab": {
          "base_uri": "https://localhost:8080/",
          "height": 445
        },
        "id": "ECSoWXK6fcoq",
        "outputId": "22d903b4-d5ee-4c66-e7d2-5210fcd2dec4"
      },
      "execution_count": null,
      "outputs": [
        {
          "output_type": "display_data",
          "data": {
            "text/plain": [
              "<Figure size 1200x800 with 1 Axes>"
            ],
            "image/png": "[encoded data removed]"
          },
          "metadata": {}
        }
      ]
    },
    {
      "cell_type": "code",
      "source": [],
      "metadata": {
        "id": "3rSrI51rfh8Y"
      },
      "execution_count": null,
      "outputs": []
    }
  ]
}